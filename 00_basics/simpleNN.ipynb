{
 "cells": [
  {
   "cell_type": "markdown",
   "metadata": {},
   "source": [
    "### Simple Neural Network\n",
    "\n",
    "- Neural network is a function machine.\n",
    "    - Input (like an image, a number or some data) -> machine -> Output (prediction).\n",
    "    - The machine has **layers** with **neurons** (like little calculator).\n",
    "    - Each connection has **weights** (knobs you can turn).\n",
    "    - Goal: turn the knobs until the machine makes good predictions."
   ]
  },
  {
   "cell_type": "code",
   "execution_count": 2,
   "metadata": {},
   "outputs": [],
   "source": [
    "import torch\n",
    "import torch.nn as nn # neural network module\n",
    "import torch.optim as optim # optimizer module"
   ]
  },
  {
   "cell_type": "markdown",
   "metadata": {},
   "source": [
    "##### Building a smallest neural network: Linear Regression\n",
    "\n",
    "- Imagine predicting house price just from size."
   ]
  },
  {
   "cell_type": "code",
   "execution_count": 3,
   "metadata": {},
   "outputs": [],
   "source": [
    "# training data: x = size, y = price\n",
    "# x is independent data and y is dependent on x\n",
    "# based on x data point y will react\n",
    "x = torch.tensor([[1.0], [2.0], [3.0], [4.0]])\n",
    "y = torch.tensor([[2.0], [4.0], [6.0], [8.0]])\n",
    "\n",
    "# function: y = 2x"
   ]
  },
  {
   "cell_type": "code",
   "execution_count": 6,
   "metadata": {},
   "outputs": [
    {
     "data": {
      "text/plain": [
       "Linear(in_features=1, out_features=1, bias=True)"
      ]
     },
     "execution_count": 6,
     "metadata": {},
     "output_type": "execute_result"
    }
   ],
   "source": [
    "# basic model\n",
    "model = nn.Linear(in_features=1, out_features=1) # in_features -> size, out_features -> price\n",
    "\n",
    "model"
   ]
  },
  {
   "cell_type": "code",
   "execution_count": 9,
   "metadata": {},
   "outputs": [
    {
     "data": {
      "text/plain": [
       "<generator object Module.parameters at 0x7f38edbcdd90>"
      ]
     },
     "execution_count": 9,
     "metadata": {},
     "output_type": "execute_result"
    }
   ],
   "source": [
    "model.parameters() # it will provide a generator object"
   ]
  },
  {
   "cell_type": "code",
   "execution_count": 11,
   "metadata": {},
   "outputs": [
    {
     "data": {
      "text/plain": [
       "[Parameter containing:\n",
       " tensor([[-0.0712]], requires_grad=True),\n",
       " Parameter containing:\n",
       " tensor([0.8496], requires_grad=True)]"
      ]
     },
     "execution_count": 11,
     "metadata": {},
     "output_type": "execute_result"
    }
   ],
   "source": [
    "# to inspect the generator object\n",
    "params = list(model.parameters())\n",
    "params"
   ]
  },
  {
   "cell_type": "code",
   "execution_count": 13,
   "metadata": {},
   "outputs": [
    {
     "name": "stdout",
     "output_type": "stream",
     "text": [
      "torch.Size([1, 1])\n",
      "torch.Size([1])\n"
     ]
    }
   ],
   "source": [
    "# check the shape of the parameters\n",
    "for p in params:\n",
    "    print(p.shape)"
   ]
  },
  {
   "cell_type": "code",
   "execution_count": 14,
   "metadata": {},
   "outputs": [
    {
     "name": "stdout",
     "output_type": "stream",
     "text": [
      "Total Parameters: 2\n"
     ]
    }
   ],
   "source": [
    "# check for the trainable parameters\n",
    "total_params = sum(p.numel() for p in params)\n",
    "\n",
    "print(f\"Total Parameters: {total_params}\")"
   ]
  },
  {
   "cell_type": "code",
   "execution_count": 16,
   "metadata": {},
   "outputs": [
    {
     "name": "stdout",
     "output_type": "stream",
     "text": [
      "weight torch.Size([1, 1])\n",
      "Parameter containing:\n",
      "tensor([[-0.0712]], requires_grad=True)\n",
      "bias torch.Size([1])\n",
      "Parameter containing:\n",
      "tensor([0.8496], requires_grad=True)\n"
     ]
    }
   ],
   "source": [
    "# for inspect the values\n",
    "for name, param in model.named_parameters():\n",
    "    print(name, param.shape)\n",
    "    print(param)"
   ]
  },
  {
   "cell_type": "code",
   "execution_count": 17,
   "metadata": {},
   "outputs": [],
   "source": [
    "# create a loss and optimizer\n",
    "loss_fn = nn.MSELoss() # mean squared error\n",
    "optimizer = optim.SGD(model.parameters(), lr=0.01)"
   ]
  },
  {
   "cell_type": "code",
   "execution_count": 24,
   "metadata": {},
   "outputs": [
    {
     "name": "stdout",
     "output_type": "stream",
     "text": [
      "Predicted: 9.999994277954102\n"
     ]
    }
   ],
   "source": [
    "# build a simple training loop\n",
    "for epoch in range(1000):\n",
    "    y_pred = model(x) # forward pass\n",
    "    loss = loss_fn(y_pred, y) # compute error\n",
    "\n",
    "    optimizer.zero_grad() # clear old gradients\n",
    "    loss.backward() # compute new gradients\n",
    "    optimizer.step() # update weights\n",
    "\n",
    "print(f\"Predicted: {model(torch.tensor([[5.0]])).item()}\")"
   ]
  },
  {
   "cell_type": "code",
   "execution_count": null,
   "metadata": {},
   "outputs": [],
   "source": []
  }
 ],
 "metadata": {
  "kernelspec": {
   "display_name": "Python (uv)",
   "language": "python",
   "name": "uv"
  },
  "language_info": {
   "codemirror_mode": {
    "name": "ipython",
    "version": 3
   },
   "file_extension": ".py",
   "mimetype": "text/x-python",
   "name": "python",
   "nbconvert_exporter": "python",
   "pygments_lexer": "ipython3",
   "version": "3.10.7"
  }
 },
 "nbformat": 4,
 "nbformat_minor": 2
}

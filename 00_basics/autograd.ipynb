{
 "cells": [
  {
   "cell_type": "markdown",
   "metadata": {},
   "source": [
    "## Autograd"
   ]
  },
  {
   "cell_type": "markdown",
   "metadata": {},
   "source": [
    "#### Autograd is a pytorch's automatic differentiation engine\n",
    "\n",
    "- It automatically calculates gradient(slopes) for tensors that require it.\n",
    "- Gradients tell us how to change a number to make our answer better - this is essential for training neural networks.\n",
    "\n",
    "Autograd is like a magical notebook that tells you:\n",
    "\"Hey! If you move this way, you’ll get closer to balance!\"\n",
    "That “direction to improve” = gradient."
   ]
  },
  {
   "cell_type": "code",
   "execution_count": 1,
   "metadata": {},
   "outputs": [],
   "source": [
    "import numpy as np"
   ]
  },
  {
   "cell_type": "code",
   "execution_count": 4,
   "metadata": {},
   "outputs": [
    {
     "data": {
      "text/plain": [
       "array([0, 0, 0, 0, 0])"
      ]
     },
     "execution_count": 4,
     "metadata": {},
     "output_type": "execute_result"
    }
   ],
   "source": [
    "np.zeros_like([1, 2, 3, 4, 5])"
   ]
  },
  {
   "cell_type": "code",
   "execution_count": 5,
   "metadata": {},
   "outputs": [],
   "source": [
    "# build mini autograd from scratch\n",
    "class Tensor:\n",
    "\n",
    "    def __init__(self, data, requires_grad: bool = True):\n",
    "        self.data = np.array(data, dtype=np.float32)\n",
    "        self.requires_grad = requires_grad\n",
    "        self.grad = None\n",
    "        self._backward = lambda : None # function to compute gradients\n",
    "        self._prev = set() # tensors created this one\n",
    "\n",
    "    def __repr__(self):\n",
    "        return f\"Tensor(data={self.data}, grad={self.grad})\"\n",
    "\n",
    "    # helper method to zero grad\n",
    "    def zero_grad(self):\n",
    "        self.grad = np.zeros_like(self.data)"
   ]
  },
  {
   "cell_type": "code",
   "execution_count": 23,
   "metadata": {},
   "outputs": [],
   "source": [
    "# addition\n",
    "def add(a, b):\n",
    "\n",
    "    out = Tensor(a.data + b.data, requires_grad=a.requires_grad or b.requires_grad)\n",
    "\n",
    "    def _backward_add():\n",
    "\n",
    "        if a.requires_grad:\n",
    "            if a.grad is None:\n",
    "                a.grad = np.zeros_like(a.data)\n",
    "            a.grad += out.grad\n",
    "\n",
    "        if b.requires_grad:\n",
    "            if b.grad is None:\n",
    "                b.grad = np.zeros_like(b.data)\n",
    "            b.grad += out.grad\n",
    "\n",
    "    out._backward = _backward_add\n",
    "    out._prev = {a, b}\n",
    "\n",
    "    return out"
   ]
  },
  {
   "cell_type": "code",
   "execution_count": 24,
   "metadata": {},
   "outputs": [],
   "source": [
    "# multiplication\n",
    "def mul(a, b):\n",
    "\n",
    "    out = Tensor(a.data * b.data, requires_grad=a.requires_grad or b.requires_grad)\n",
    "\n",
    "    def _backward_mul():\n",
    "\n",
    "        if a.requires_grad:\n",
    "            if a.grad is None:\n",
    "                a.grad = np.zeros_like(a.data)\n",
    "            a.grad += b.data * out.grad\n",
    "\n",
    "        if b.requires_grad:\n",
    "            if b.grad is None:\n",
    "                b.grad = np.zeros_like(b.data)\n",
    "            b.grad += a.data * out.grad\n",
    "\n",
    "    out._backward = _backward_mul\n",
    "    out._prev = {a, b}\n",
    "\n",
    "    return out"
   ]
  },
  {
   "cell_type": "code",
   "execution_count": 25,
   "metadata": {},
   "outputs": [],
   "source": [
    "# power\n",
    "def power(a, exponent):\n",
    "\n",
    "    out = Tensor(a.data ** exponent, requires_grad=a.requires_grad)\n",
    "\n",
    "    def _backward_power():\n",
    "\n",
    "        if a.requires_grad:\n",
    "            if a.grad is None:\n",
    "                a.grad = np.zeros_like(a.data)\n",
    "            a.grad += exponent * (a.data ** (exponent -1)) * out.grad\n",
    "\n",
    "    out._backward = _backward_power\n",
    "    out._prev = {a}\n",
    "\n",
    "    return out"
   ]
  },
  {
   "cell_type": "code",
   "execution_count": 26,
   "metadata": {},
   "outputs": [],
   "source": [
    "def backward(tensor, grad=None):\n",
    "\n",
    "    if grad is None:\n",
    "        grad = np.ones_like(tensor.data) # gradients of output w.r.t iteself = 1\n",
    "    \n",
    "    tensor.grad = grad if tensor.grad is None else tensor.grad + grad\n",
    "    tensor._backward()\n",
    "\n",
    "    for t in tensor._prev:\n",
    "        if t.requires_grad:\n",
    "            backward(t)"
   ]
  },
  {
   "cell_type": "markdown",
   "metadata": {},
   "source": [
    "#### Test the functionalities\n",
    "\n",
    "* y=(x**2+3x)"
   ]
  },
  {
   "cell_type": "code",
   "execution_count": 31,
   "metadata": {},
   "outputs": [
    {
     "name": "stdout",
     "output_type": "stream",
     "text": [
      "y = 10.0\n",
      "dy/dx = 16.0\n"
     ]
    }
   ],
   "source": [
    "# to find -> dy / dx at x = 2\n",
    "# create a tensor\n",
    "x = Tensor(2.0, requires_grad=True)\n",
    "\n",
    "# forward pass\n",
    "y = add(power(x, 2), mul(Tensor(3.0), x)) # output: 10.0\n",
    "\n",
    "# backward pass\n",
    "backward(y)\n",
    "\n",
    "print(f\"y = {y.data}\")\n",
    "print(f\"dy/dx = {x.grad}\")"
   ]
  },
  {
   "cell_type": "markdown",
   "metadata": {},
   "source": [
    "### Autograd using PyTorch"
   ]
  },
  {
   "cell_type": "code",
   "execution_count": 32,
   "metadata": {},
   "outputs": [],
   "source": [
    "import torch"
   ]
  },
  {
   "cell_type": "code",
   "execution_count": 34,
   "metadata": {},
   "outputs": [
    {
     "data": {
      "text/plain": [
       "(tensor(2., requires_grad=True), tensor(3.))"
      ]
     },
     "execution_count": 34,
     "metadata": {},
     "output_type": "execute_result"
    }
   ],
   "source": [
    "# create a tensors\n",
    "x = torch.tensor(2.0, requires_grad=True)\n",
    "\n",
    "# constant does not requires grad\n",
    "c = torch.tensor(3.0, requires_grad=False)\n",
    "\n",
    "x, c"
   ]
  },
  {
   "cell_type": "code",
   "execution_count": 37,
   "metadata": {},
   "outputs": [
    {
     "name": "stdout",
     "output_type": "stream",
     "text": [
      "y =  10.0\n"
     ]
    }
   ],
   "source": [
    "# forawrd pass\n",
    "y = x ** 2 + c * x\n",
    "print(\"y = \", y.item())"
   ]
  },
  {
   "cell_type": "code",
   "execution_count": null,
   "metadata": {},
   "outputs": [],
   "source": [
    "# backward pass\n",
    "y.backward()\n",
    "\n",
    "print(f\"dy/dx = {x.grad.item()}\")  # RuntimeError: Trying to backward through the graph a second time (or directly access saved tensors after they have already been freed). Saved intermediate values of the graph are freed when you call .backward() or autograd.grad(). Specify retain_graph=True if you need to backward through the graph a second time or if you need to access saved tensors after calling backward."
   ]
  },
  {
   "cell_type": "code",
   "execution_count": null,
   "metadata": {},
   "outputs": [],
   "source": []
  }
 ],
 "metadata": {
  "kernelspec": {
   "display_name": "Python (uv)",
   "language": "python",
   "name": "uv"
  },
  "language_info": {
   "codemirror_mode": {
    "name": "ipython",
    "version": 3
   },
   "file_extension": ".py",
   "mimetype": "text/x-python",
   "name": "python",
   "nbconvert_exporter": "python",
   "pygments_lexer": "ipython3",
   "version": "3.10.7"
  }
 },
 "nbformat": 4,
 "nbformat_minor": 2
}

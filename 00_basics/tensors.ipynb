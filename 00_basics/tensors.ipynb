{
 "cells": [
  {
   "cell_type": "markdown",
   "metadata": {},
   "source": [
    "## Tensor Basics & Operations"
   ]
  },
  {
   "cell_type": "markdown",
   "metadata": {},
   "source": [
    "#### Tensors are the heart of pytorch"
   ]
  },
  {
   "cell_type": "code",
   "execution_count": 3,
   "metadata": {},
   "outputs": [
    {
     "name": "stdout",
     "output_type": "stream",
     "text": [
      "2.8.0+cu129\n"
     ]
    }
   ],
   "source": [
    "# tensors is container for number like a magical box\n",
    "# 1D - like a line of numbers - [1, 2, 3]\n",
    "# 2D - like a grid/matrix - [[1, 2, 3], [4, 5, 6]]\n",
    "# 3D - like a cube - stacked grid\n",
    "\n",
    "import torch\n",
    "\n",
    "# check the version of pytoch\n",
    "print(torch.__version__)"
   ]
  },
  {
   "cell_type": "code",
   "execution_count": 10,
   "metadata": {},
   "outputs": [
    {
     "name": "stdout",
     "output_type": "stream",
     "text": [
      "One dimensional tensor: tensor([1, 2, 3, 4, 5])\n",
      "Shape of the One dimensional tensor: torch.Size([5])\n",
      "Size of the One dimensional tensor: torch.Size([5])\n"
     ]
    }
   ],
   "source": [
    "# create a 1D tensor\n",
    "OneD_tensor = torch.tensor([1, 2, 3, 4, 5])\n",
    "\n",
    "print(f\"One dimensional tensor: {OneD_tensor}\")\n",
    "print(f\"Shape of the One dimensional tensor: {OneD_tensor.shape}\") # shape is a property, if need to access the item means need to use the [].\n",
    "print(f\"Size of the One dimensional tensor: {OneD_tensor.size()}\") # size is a method, need to access the item means need to pass dim as arguments."
   ]
  },
  {
   "cell_type": "code",
   "execution_count": 17,
   "metadata": {},
   "outputs": [
    {
     "name": "stdout",
     "output_type": "stream",
     "text": [
      "Two dimensional tensor: tensor([[1, 2, 3],\n",
      "        [4, 5, 6]])\n",
      "Size of the Two dimensional tensor: torch.Size([2, 3])\n",
      "Shape of the Two dimensional tensor: torch.Size([2, 3])\n",
      "checking the two dim data: 2\n",
      "checking the two dim tensor: 3\n"
     ]
    }
   ],
   "source": [
    "# create a 2D tensor\n",
    "TwoD_tensor = torch.tensor([[1, 2, 3],\n",
    "                            [4, 5, 6]])\n",
    "\n",
    "print(f\"Two dimensional tensor: {TwoD_tensor}\")\n",
    "print(f\"Size of the Two dimensional tensor: {TwoD_tensor.size()}\")\n",
    "print(f\"Shape of the Two dimensional tensor: {TwoD_tensor.shape}\")\n",
    "\n",
    "# access the elements from the two dim tensor data\n",
    "print(f\"checking the two dim data: {TwoD_tensor.shape[0]}\") # it will tell the number of rows [rows, columns] -> [0, 1]\n",
    "print(f\"checking the two dim tensor: {TwoD_tensor.shape[1]}\") # it will tell the number of columns [rows, columns] -> [0, 1]"
   ]
  },
  {
   "cell_type": "code",
   "execution_count": 26,
   "metadata": {},
   "outputs": [
    {
     "name": "stdout",
     "output_type": "stream",
     "text": [
      "Three dimesional data: tensor([[[0.6990, 0.0910, 0.9152],\n",
      "         [0.2032, 0.1552, 0.9133],\n",
      "         [0.4933, 0.5505, 0.3132],\n",
      "         [0.2169, 0.7101, 0.6506]],\n",
      "\n",
      "        [[0.9401, 0.2085, 0.2257],\n",
      "         [0.5620, 0.9991, 0.2664],\n",
      "         [0.7203, 0.9857, 0.9625],\n",
      "         [0.3525, 0.5896, 0.1149]]])\n",
      "Shape of the Three dimensional data: torch.Size([2, 4, 3])\n",
      "Size of the Three dimensional data: torch.Size([2, 4, 3])\n",
      "Checking row dimension: 2\n",
      "Checking row dimension: 4\n",
      "Checking row dimension: 3\n"
     ]
    }
   ],
   "source": [
    "# create a 3D tensor - stacked grid\n",
    "ThreeD_tensor = torch.rand(2, 4, 3) # (number of blocks, number of rows, number of columns)\n",
    "\n",
    "print(f\"Three dimesional data: {ThreeD_tensor}\")\n",
    "print(f\"Shape of the Three dimensional data: {ThreeD_tensor.shape}\")\n",
    "print(f\"Size of the Three dimensional data: {ThreeD_tensor.size()}\")\n",
    "\n",
    "# checking the dimensions\n",
    "print(f\"Checking row dimension: {ThreeD_tensor.shape[0]}\") # grids\n",
    "print(f\"Checking row dimension: {ThreeD_tensor.shape[1]}\") # rows\n",
    "print(f\"Checking row dimension: {ThreeD_tensor.shape[2]}\") # columns"
   ]
  },
  {
   "cell_type": "markdown",
   "metadata": {},
   "source": [
    "##### Tensor operations"
   ]
  },
  {
   "cell_type": "code",
   "execution_count": 27,
   "metadata": {},
   "outputs": [
    {
     "name": "stdout",
     "output_type": "stream",
     "text": [
      "Add operation: tensor([ 6,  8, 10, 12])\n",
      "Multiply element wise operation: tensor([ 5, 12, 21, 32])\n",
      "Dot product: 70\n"
     ]
    }
   ],
   "source": [
    "a = torch.tensor([1, 2, 3, 4])\n",
    "b = torch.tensor([5, 6, 7, 8])\n",
    "\n",
    "print(f\"Add operation: {a + b}\")\n",
    "print(f\"Multiply element wise operation: {a * b}\")\n",
    "print(f\"Dot product: {torch.dot(a, b)}\")"
   ]
  },
  {
   "cell_type": "code",
   "execution_count": null,
   "metadata": {},
   "outputs": [],
   "source": []
  },
  {
   "cell_type": "code",
   "execution_count": null,
   "metadata": {},
   "outputs": [],
   "source": []
  }
 ],
 "metadata": {
  "kernelspec": {
   "display_name": "Python (uv)",
   "language": "python",
   "name": "uv"
  },
  "language_info": {
   "codemirror_mode": {
    "name": "ipython",
    "version": 3
   },
   "file_extension": ".py",
   "mimetype": "text/x-python",
   "name": "python",
   "nbconvert_exporter": "python",
   "pygments_lexer": "ipython3",
   "version": "3.10.7"
  }
 },
 "nbformat": 4,
 "nbformat_minor": 2
}

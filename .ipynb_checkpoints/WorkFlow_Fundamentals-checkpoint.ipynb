{
 "cells": [
  {
   "cell_type": "code",
   "execution_count": 1,
   "id": "14ad4aa6",
   "metadata": {},
   "outputs": [
    {
     "name": "stdout",
     "output_type": "stream",
     "text": [
      "Requirement already satisfied: matplotlib in g:\\data_science\\pytorch\\torch\\lib\\site-packages (3.7.2)\n",
      "Requirement already satisfied: contourpy>=1.0.1 in g:\\data_science\\pytorch\\torch\\lib\\site-packages (from matplotlib) (1.1.0)\n",
      "Requirement already satisfied: cycler>=0.10 in g:\\data_science\\pytorch\\torch\\lib\\site-packages (from matplotlib) (0.11.0)\n",
      "Requirement already satisfied: fonttools>=4.22.0 in g:\\data_science\\pytorch\\torch\\lib\\site-packages (from matplotlib) (4.42.0)\n",
      "Requirement already satisfied: kiwisolver>=1.0.1 in g:\\data_science\\pytorch\\torch\\lib\\site-packages (from matplotlib) (1.4.4)\n",
      "Requirement already satisfied: numpy>=1.20 in g:\\data_science\\pytorch\\torch\\lib\\site-packages (from matplotlib) (1.24.1)\n",
      "Requirement already satisfied: packaging>=20.0 in g:\\data_science\\pytorch\\torch\\lib\\site-packages (from matplotlib) (23.1)\n",
      "Requirement already satisfied: pillow>=6.2.0 in g:\\data_science\\pytorch\\torch\\lib\\site-packages (from matplotlib) (9.3.0)\n",
      "Requirement already satisfied: pyparsing<3.1,>=2.3.1 in g:\\data_science\\pytorch\\torch\\lib\\site-packages (from matplotlib) (3.0.9)\n",
      "Requirement already satisfied: python-dateutil>=2.7 in g:\\data_science\\pytorch\\torch\\lib\\site-packages (from matplotlib) (2.8.2)\n",
      "Requirement already satisfied: six>=1.5 in g:\\data_science\\pytorch\\torch\\lib\\site-packages (from python-dateutil>=2.7->matplotlib) (1.16.0)\n"
     ]
    },
    {
     "name": "stderr",
     "output_type": "stream",
     "text": [
      "\n",
      "[notice] A new release of pip available: 22.3.1 -> 23.2.1\n",
      "[notice] To update, run: python.exe -m pip install --upgrade pip\n"
     ]
    }
   ],
   "source": [
    "!pip install matplotlib"
   ]
  },
  {
   "cell_type": "code",
   "execution_count": 2,
   "id": "f71bda87",
   "metadata": {},
   "outputs": [],
   "source": [
    "# import the required libraries\n",
    "import torch\n",
    "import torch.nn as nn\n",
    "import matplotlib.pyplot as plt"
   ]
  },
  {
   "cell_type": "code",
   "execution_count": 3,
   "id": "96199959",
   "metadata": {},
   "outputs": [],
   "source": [
    "# check for the cuda is available or not\n",
    "device = torch.cuda.is_available()"
   ]
  },
  {
   "cell_type": "code",
   "execution_count": 4,
   "id": "788a8f0f",
   "metadata": {},
   "outputs": [
    {
     "data": {
      "text/plain": [
       "'2.0.1+cu118'"
      ]
     },
     "execution_count": 4,
     "metadata": {},
     "output_type": "execute_result"
    }
   ],
   "source": [
    "# pytorch version\n",
    "torch.__version__"
   ]
  },
  {
   "cell_type": "markdown",
   "id": "08cd3cc9",
   "metadata": {},
   "source": [
    "### Create an Dataset"
   ]
  },
  {
   "cell_type": "code",
   "execution_count": 5,
   "id": "26899611",
   "metadata": {},
   "outputs": [
    {
     "data": {
      "text/plain": [
       "(tensor([[0.0000],\n",
       "         [0.0200],\n",
       "         [0.0400],\n",
       "         [0.0600],\n",
       "         [0.0800],\n",
       "         [0.1000],\n",
       "         [0.1200],\n",
       "         [0.1400],\n",
       "         [0.1600],\n",
       "         [0.1800]]),\n",
       " tensor([[0.3000],\n",
       "         [0.3140],\n",
       "         [0.3280],\n",
       "         [0.3420],\n",
       "         [0.3560],\n",
       "         [0.3700],\n",
       "         [0.3840],\n",
       "         [0.3980],\n",
       "         [0.4120],\n",
       "         [0.4260]]))"
      ]
     },
     "execution_count": 5,
     "metadata": {},
     "output_type": "execute_result"
    }
   ],
   "source": [
    "# create an data for the straight line\n",
    "# create an known parameters\n",
    "weight = 0.7\n",
    "bias = 0.3\n",
    "\n",
    "# create data\n",
    "start = 0\n",
    "end = 1\n",
    "step = 0.02\n",
    "X = torch.arange(start, end, step).unsqueeze(dim=1)\n",
    "\n",
    "# Linear regression equation\n",
    "y = weight * X + bias\n",
    "\n",
    "X[:10], y[:10]"
   ]
  },
  {
   "cell_type": "markdown",
   "id": "18bac5e9",
   "metadata": {},
   "source": [
    "### Split the data\n",
    "\n",
    "* Training set\n",
    "* Testing set\n",
    "* Validation set (Optional)"
   ]
  },
  {
   "cell_type": "code",
   "execution_count": 6,
   "id": "ba1e9d40",
   "metadata": {},
   "outputs": [
    {
     "data": {
      "text/plain": [
       "(40, 40, 10, 10)"
      ]
     },
     "execution_count": 6,
     "metadata": {},
     "output_type": "execute_result"
    }
   ],
   "source": [
    "# 80% data for training and 20% for testing\n",
    "trainSplit = int(0.8 * len(X))\n",
    "\n",
    "X_train, y_train = X[:trainSplit], y[:trainSplit]\n",
    "X_test, y_test = X[trainSplit:], y[trainSplit:]\n",
    "\n",
    "len(X_train), len(y_train), len(X_test), len(y_test)"
   ]
  },
  {
   "cell_type": "markdown",
   "id": "950d30ae",
   "metadata": {},
   "source": [
    "### Visulaize the data"
   ]
  },
  {
   "cell_type": "markdown",
   "id": "d3efd90d",
   "metadata": {},
   "source": [
    "Note: Visualize the data would brings more understanding (insights)"
   ]
  },
  {
   "cell_type": "code",
   "execution_count": 7,
   "id": "c2d4ea13",
   "metadata": {},
   "outputs": [],
   "source": [
    "# functions to visualize the straight line data\n",
    "def visualize(trainData = X_train, trainLabels = y_train, testData = X_test, testLabels = y_test, predictions = None):\n",
    "    plt.figure(figsize = (8, 7))\n",
    "    \n",
    "    # plot training data in blue color\n",
    "    plt.scatter(trainData, trainLabels, c=\"b\", s=4, label=\"Training Data\")\n",
    "    \n",
    "    # plot testing data in green\n",
    "    plt.scatter(testData, testLabels, c=\"g\", s=4, label=\"Testing Data\")\n",
    "    \n",
    "    if predictions is not None:\n",
    "        # predictions here print it in red color\n",
    "        plt.scatter(testData, predictions, c=\"r\", s=4, label=\"Predictions\")\n",
    "    \n",
    "    # legend\n",
    "    plt.legend(prop={\"size\": 14});"
   ]
  },
  {
   "cell_type": "code",
   "execution_count": 8,
   "id": "83e45c81",
   "metadata": {},
   "outputs": [
    {
     "data": {
      "image/png": "[encoded data removed]",
      "text/plain": [
       "<Figure size 800x700 with 1 Axes>"
      ]
     },
     "metadata": {},
     "output_type": "display_data"
    }
   ],
   "source": [
    "visualize()"
   ]
  },
  {
   "cell_type": "markdown",
   "id": "86c74547",
   "metadata": {},
   "source": [
    "### Build Model"
   ]
  },
  {
   "cell_type": "code",
   "execution_count": 9,
   "id": "7611cae6",
   "metadata": {},
   "outputs": [
    {
     "data": {
      "text/plain": [
       "<torch._C.Generator at 0x256ff9d3970>"
      ]
     },
     "execution_count": 9,
     "metadata": {},
     "output_type": "execute_result"
    }
   ],
   "source": [
    "# set the random reproducibilty seed\n",
    "torch.manual_seed(42)"
   ]
  },
  {
   "cell_type": "code",
   "execution_count": 10,
   "id": "2dacd612",
   "metadata": {},
   "outputs": [],
   "source": [
    "# Linear Regression model using PyTorch\n",
    "class LinearRegression(nn.Module):\n",
    "    def __init__(self):\n",
    "        super().__init__()\n",
    "        # random weights\n",
    "        self.weights = nn.Parameter(torch.randn(1, dtype=torch.float))\n",
    "        self.bias = nn.Parameter(torch.randn(1, dtype=torch.float), requires_grad = True)\n",
    "    \n",
    "    def forward(self, x: torch.Tensor) -> torch.Tensor:\n",
    "        return self.weights * x + self.bias"
   ]
  },
  {
   "cell_type": "code",
   "execution_count": 11,
   "id": "c5dbca3a",
   "metadata": {},
   "outputs": [
    {
     "data": {
      "text/plain": [
       "[Parameter containing:\n",
       " tensor([0.3367], requires_grad=True),\n",
       " Parameter containing:\n",
       " tensor([0.1288], requires_grad=True)]"
      ]
     },
     "execution_count": 11,
     "metadata": {},
     "output_type": "execute_result"
    }
   ],
   "source": [
    "# create an instance for the LinearRegression model\n",
    "model = LinearRegression()\n",
    "\n",
    "# check the parameters\n",
    "list(model.parameters())"
   ]
  },
  {
   "cell_type": "code",
   "execution_count": 12,
   "id": "3d10e036",
   "metadata": {},
   "outputs": [
    {
     "data": {
      "text/plain": [
       "OrderedDict([('weights', tensor([0.3367])), ('bias', tensor([0.1288]))])"
      ]
     },
     "execution_count": 12,
     "metadata": {},
     "output_type": "execute_result"
    }
   ],
   "source": [
    "# state of the model\n",
    "model.state_dict()"
   ]
  },
  {
   "cell_type": "markdown",
   "id": "a8c5543f",
   "metadata": {},
   "source": [
    "### Predictions using inference_mode()"
   ]
  },
  {
   "cell_type": "code",
   "execution_count": 13,
   "id": "a13039e2",
   "metadata": {},
   "outputs": [],
   "source": [
    "# when the data passed to the model it goes to the forward method\n",
    "with torch.inference_mode():\n",
    "    yPreds = model(X_test)"
   ]
  },
  {
   "cell_type": "markdown",
   "id": "d734b6ab",
   "metadata": {},
   "source": [
    "Note: The inference mode offs the gradient tracking while make predictions"
   ]
  },
  {
   "cell_type": "code",
   "execution_count": 14,
   "id": "2217307a",
   "metadata": {},
   "outputs": [
    {
     "name": "stdout",
     "output_type": "stream",
     "text": [
      "Number of testing samples: 10\n",
      "Number of predictions made: 10\n",
      "Predicted values:\n",
      "tensor([[0.3982],\n",
      "        [0.4049],\n",
      "        [0.4116],\n",
      "        [0.4184],\n",
      "        [0.4251],\n",
      "        [0.4318],\n",
      "        [0.4386],\n",
      "        [0.4453],\n",
      "        [0.4520],\n",
      "        [0.4588]])\n"
     ]
    }
   ],
   "source": [
    "# check the predictions\n",
    "print(f\"Number of testing samples: {len(X_test)}\")\n",
    "print(f\"Number of predictions made: {len(yPreds)}\")\n",
    "print(f\"Predicted values:\\n{yPreds}\")"
   ]
  },
  {
   "cell_type": "code",
   "execution_count": 15,
   "id": "237bc37b",
   "metadata": {},
   "outputs": [
    {
     "data": {
      "image/png": "[encoded data removed]",
      "text/plain": [
       "<Figure size 800x700 with 1 Axes>"
      ]
     },
     "metadata": {},
     "output_type": "display_data"
    }
   ],
   "source": [
    "# visualize the predictions\n",
    "visualize(predictions=yPreds)"
   ]
  },
  {
   "cell_type": "code",
   "execution_count": 16,
   "id": "2293223a",
   "metadata": {},
   "outputs": [
    {
     "name": "stdout",
     "output_type": "stream",
     "text": [
      "Loss Values:\n",
      " tensor([[0.4618],\n",
      "        [0.4691],\n",
      "        [0.4764],\n",
      "        [0.4836],\n",
      "        [0.4909],\n",
      "        [0.4982],\n",
      "        [0.5054],\n",
      "        [0.5127],\n",
      "        [0.5200],\n",
      "        [0.5272]])\n"
     ]
    }
   ],
   "source": [
    "# get the loss values\n",
    "print(f\"Loss Values:\\n {y_test - yPreds}\") # pretty bad result"
   ]
  },
  {
   "cell_type": "code",
   "execution_count": 17,
   "id": "66e4c706",
   "metadata": {},
   "outputs": [],
   "source": [
    "# create an loss function\n",
    "lossFn = nn.L1Loss() # MAE loss\n",
    "\n",
    "# create an optimizer\n",
    "optimizer = torch.optim.SGD(params=model.parameters(), lr=0.01)"
   ]
  },
  {
   "cell_type": "code",
   "execution_count": 28,
   "id": "22bdcdea",
   "metadata": {},
   "outputs": [
    {
     "name": "stdout",
     "output_type": "stream",
     "text": [
      "Epoch: 0 | MAE Train Loss: 0.008932482451200485 | MAE Test Loss: 0.005023092031478882\n",
      "Epoch: 10 | MAE Train Loss: 0.008932482451200485 | MAE Test Loss: 0.005023092031478882\n",
      "Epoch: 20 | MAE Train Loss: 0.008932482451200485 | MAE Test Loss: 0.005023092031478882\n",
      "Epoch: 30 | MAE Train Loss: 0.008932482451200485 | MAE Test Loss: 0.005023092031478882\n",
      "Epoch: 40 | MAE Train Loss: 0.008932482451200485 | MAE Test Loss: 0.005023092031478882\n",
      "Epoch: 50 | MAE Train Loss: 0.008932482451200485 | MAE Test Loss: 0.005023092031478882\n",
      "Epoch: 60 | MAE Train Loss: 0.008932482451200485 | MAE Test Loss: 0.005023092031478882\n",
      "Epoch: 70 | MAE Train Loss: 0.008932482451200485 | MAE Test Loss: 0.005023092031478882\n",
      "Epoch: 80 | MAE Train Loss: 0.008932482451200485 | MAE Test Loss: 0.005023092031478882\n",
      "Epoch: 90 | MAE Train Loss: 0.008932482451200485 | MAE Test Loss: 0.005023092031478882\n",
      "Epoch: 100 | MAE Train Loss: 0.008932482451200485 | MAE Test Loss: 0.005023092031478882\n",
      "Epoch: 110 | MAE Train Loss: 0.008932482451200485 | MAE Test Loss: 0.005023092031478882\n",
      "Epoch: 120 | MAE Train Loss: 0.008932482451200485 | MAE Test Loss: 0.005023092031478882\n",
      "Epoch: 130 | MAE Train Loss: 0.008932482451200485 | MAE Test Loss: 0.005023092031478882\n",
      "Epoch: 140 | MAE Train Loss: 0.008932482451200485 | MAE Test Loss: 0.005023092031478882\n"
     ]
    }
   ],
   "source": [
    "torch.manual_seed(42)\n",
    "\n",
    "# set the epochs\n",
    "epochs = 150\n",
    "\n",
    "# create an empty list to record the values\n",
    "trainLoss_Values = []\n",
    "testLoss_Values = []\n",
    "epochCount = []\n",
    "\n",
    "# build an training loop\n",
    "for epoch in range(epochs):\n",
    "    \n",
    "    # set the model into training mode\n",
    "    model.train()\n",
    "    \n",
    "    # forward the data into the model\n",
    "    yPred = model(X_train)\n",
    "    \n",
    "    # calculate the loss\n",
    "    loss = lossFn(yPred, y_train)\n",
    "    \n",
    "    # zero grad of the optimizer\n",
    "    optimizer.zero_grad()\n",
    "    \n",
    "    # loss backwards\n",
    "    loss.backward()\n",
    "    \n",
    "    # continue the optimizer\n",
    "    optimizer.step()\n",
    "    \n",
    "    \n",
    "    # create an testing loop\n",
    "    # put the model into an inference mode\n",
    "    model.eval()\n",
    "    \n",
    "    with torch.inference_mode():\n",
    "        # forward pass the data with already obtained weights\n",
    "        testPred = model(X_test)\n",
    "        \n",
    "        # calculate the loss on test data\n",
    "        testLoss = lossFn(testPred, y_test.type(torch.float))\n",
    "        \n",
    "        # print the progress\n",
    "        if epoch % 10 == 0:\n",
    "            epochCount.append(epoch)\n",
    "            trainLoss_Values.append(loss.detach().numpy())\n",
    "            testLoss_Values.append(testLoss.detach().numpy())\n",
    "            print(f\"Epoch: {epoch} | MAE Train Loss: {loss} | MAE Test Loss: {testLoss}\")"
   ]
  },
  {
   "cell_type": "code",
   "execution_count": 29,
   "id": "af7333d1",
   "metadata": {},
   "outputs": [
    {
     "data": {
      "text/plain": [
       "<matplotlib.legend.Legend at 0x2568fdfdb10>"
      ]
     },
     "execution_count": 29,
     "metadata": {},
     "output_type": "execute_result"
    },
    {
     "data": {
      "image/png": "[encoded data removed]",
      "text/plain": [
       "<Figure size 640x480 with 1 Axes>"
      ]
     },
     "metadata": {},
     "output_type": "display_data"
    }
   ],
   "source": [
    "# plot the loss curves\n",
    "plt.plot(epochCount, trainLoss_Values, label=\"Train Loss\")\n",
    "plt.plot(epochCount, testLoss_Values, label=\"Test Loss\")\n",
    "plt.title(\"Training and test loss curves\")\n",
    "plt.ylabel(\"Loss\")\n",
    "plt.xlabel(\"Epochs\")\n",
    "plt.legend(prop={\"size\": 14})"
   ]
  },
  {
   "cell_type": "markdown",
   "id": "2421a274",
   "metadata": {},
   "source": [
    "Note: Loss is the measure how wrong your model"
   ]
  },
  {
   "cell_type": "code",
   "execution_count": 30,
   "id": "5f94d0af",
   "metadata": {},
   "outputs": [
    {
     "name": "stdout",
     "output_type": "stream",
     "text": [
      "Model Learned parameters (weight and bias)\n",
      "OrderedDict([('weights', tensor([0.6990])), ('bias', tensor([0.3093]))])\n",
      "\n",
      " Original parameter \n",
      "weight: 0.7, bias: 0.3\n"
     ]
    }
   ],
   "source": [
    "# our models learned parameters\n",
    "print(\"Model Learned parameters (weight and bias)\")\n",
    "print(model.state_dict())\n",
    "print(\"\\n Original parameter \")\n",
    "print(f\"weight: {weight}, bias: {bias}\")"
   ]
  },
  {
   "cell_type": "markdown",
   "id": "7bd13250",
   "metadata": {},
   "source": [
    "### Make predictions using trained models"
   ]
  },
  {
   "cell_type": "code",
   "execution_count": 31,
   "id": "88cf4867",
   "metadata": {},
   "outputs": [
    {
     "name": "stdout",
     "output_type": "stream",
     "text": [
      "Predictions: \n",
      " tensor([[0.8685],\n",
      "        [0.8825],\n",
      "        [0.8965],\n",
      "        [0.9105],\n",
      "        [0.9245],\n",
      "        [0.9384],\n",
      "        [0.9524],\n",
      "        [0.9664],\n",
      "        [0.9804],\n",
      "        [0.9944]])\n"
     ]
    }
   ],
   "source": [
    "# set the model into evaluation mode\n",
    "model.eval()\n",
    "\n",
    "# setup the model into inference mode context manager\n",
    "with torch.inference_mode():\n",
    "    # make sure the the data and the model are in the same device\n",
    "    yPreds = model(X_test)\n",
    "    \n",
    "print(f\"Predictions: \\n {yPreds}\")"
   ]
  },
  {
   "cell_type": "code",
   "execution_count": 33,
   "id": "6f773914",
   "metadata": {},
   "outputs": [
    {
     "data": {
      "image/png": "[encoded data removed]",
      "text/plain": [
       "<Figure size 800x700 with 1 Axes>"
      ]
     },
     "metadata": {},
     "output_type": "display_data"
    }
   ],
   "source": [
    "# Now plot the predictions\n",
    "visualize(predictions=yPreds)"
   ]
  },
  {
   "cell_type": "markdown",
   "id": "d67d93f4",
   "metadata": {},
   "source": [
    "### Saving and Reloading the model"
   ]
  },
  {
   "cell_type": "markdown",
   "id": "85021743",
   "metadata": {},
   "source": [
    "Note: it would save the learnied parameters"
   ]
  },
  {
   "cell_type": "code",
   "execution_count": 34,
   "id": "6ed1cac6",
   "metadata": {},
   "outputs": [
    {
     "name": "stdout",
     "output_type": "stream",
     "text": [
      "Saving model to: Models\\pytorch_workflow_model_0.pt\n"
     ]
    }
   ],
   "source": [
    "# create an directory to store the model\n",
    "from pathlib import Path\n",
    "\n",
    "MODEL_PATH = Path(\"Models\")\n",
    "MODEL_PATH.mkdir(parents=True, exist_ok=True)\n",
    "\n",
    "# create model save path\n",
    "MODEL_NAME = \"pytorch_workflow_model_0.pt\"\n",
    "MODEL_SAVE_PATH = MODEL_PATH / MODEL_NAME\n",
    "\n",
    "# save the models state dict\n",
    "print(f\"Saving model to: {MODEL_SAVE_PATH}\")\n",
    "torch.save(obj=model.state_dict(), f=MODEL_SAVE_PATH)"
   ]
  },
  {
   "cell_type": "code",
   "execution_count": 38,
   "id": "39be5ffd",
   "metadata": {},
   "outputs": [
    {
     "name": "stdout",
     "output_type": "stream",
     "text": [
      " Volume in drive G is AI\n",
      " Volume Serial Number is 7070-3A41\n",
      "\n",
      " Directory of G:\\Data_Science\\PyTorch\\Models\n",
      "\n",
      "13-08-2023  13:39    <DIR>          .\n",
      "13-08-2023  13:41    <DIR>          ..\n",
      "13-08-2023  13:39             1,195 pytorch_workflow_model_0.pt\n",
      "               1 File(s)          1,195 bytes\n",
      "               2 Dir(s)  54,595,977,216 bytes free\n"
     ]
    }
   ],
   "source": [
    "# check the model available in the directory or not\n",
    "!dir Models"
   ]
  },
  {
   "cell_type": "code",
   "execution_count": 39,
   "id": "64682e34",
   "metadata": {},
   "outputs": [
    {
     "data": {
      "text/plain": [
       "<All keys matched successfully>"
      ]
     },
     "execution_count": 39,
     "metadata": {},
     "output_type": "execute_result"
    }
   ],
   "source": [
    "# Loading the saved models\n",
    "# instatntiate the new object for the class\n",
    "model_1 = LinearRegression()\n",
    "\n",
    "# set the already learned parameters to the new instance\n",
    "model_1.load_state_dict(torch.load(f=MODEL_SAVE_PATH))"
   ]
  },
  {
   "cell_type": "code",
   "execution_count": 40,
   "id": "184156ca",
   "metadata": {},
   "outputs": [],
   "source": [
    "# make predictions with new instance with the learned parameters\n",
    "model_1.eval()\n",
    "\n",
    "# use the inference mode\n",
    "with torch.inference_mode():\n",
    "    newPreds = model_1(X_test)"
   ]
  },
  {
   "cell_type": "code",
   "execution_count": 42,
   "id": "76321ec0",
   "metadata": {},
   "outputs": [
    {
     "data": {
      "text/plain": [
       "tensor([[True],\n",
       "        [True],\n",
       "        [True],\n",
       "        [True],\n",
       "        [True],\n",
       "        [True],\n",
       "        [True],\n",
       "        [True],\n",
       "        [True],\n",
       "        [True]])"
      ]
     },
     "execution_count": 42,
     "metadata": {},
     "output_type": "execute_result"
    }
   ],
   "source": [
    "# compare the model predictions\n",
    "yPreds == newPreds"
   ]
  }
 ],
 "metadata": {
  "kernelspec": {
   "display_name": "Python 3 (ipykernel)",
   "language": "python",
   "name": "python3"
  },
  "language_info": {
   "codemirror_mode": {
    "name": "ipython",
    "version": 3
   },
   "file_extension": ".py",
   "mimetype": "text/x-python",
   "name": "python",
   "nbconvert_exporter": "python",
   "pygments_lexer": "ipython3",
   "version": "3.11.1"
  }
 },
 "nbformat": 4,
 "nbformat_minor": 5
}

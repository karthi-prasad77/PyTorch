{
 "cells": [
  {
   "cell_type": "code",
   "execution_count": 1,
   "id": "753f0424",
   "metadata": {},
   "outputs": [],
   "source": [
    "import torch"
   ]
  },
  {
   "cell_type": "code",
   "execution_count": 2,
   "id": "1f6e08d5",
   "metadata": {},
   "outputs": [
    {
     "data": {
      "text/plain": [
       "True"
      ]
     },
     "execution_count": 2,
     "metadata": {},
     "output_type": "execute_result"
    }
   ],
   "source": [
    "torch.cuda.is_available()"
   ]
  },
  {
   "cell_type": "code",
   "execution_count": 3,
   "id": "c374324e",
   "metadata": {},
   "outputs": [
    {
     "name": "stdout",
     "output_type": "stream",
     "text": [
      "PyTorch Version : 2.0.1+cu118\n"
     ]
    }
   ],
   "source": [
    "# version of the pytorch\n",
    "print(\"PyTorch Version :\", torch.__version__)"
   ]
  },
  {
   "cell_type": "code",
   "execution_count": 13,
   "id": "259c29af",
   "metadata": {},
   "outputs": [
    {
     "name": "stdout",
     "output_type": "stream",
     "text": [
      "Scalar :  tensor(7)\n"
     ]
    }
   ],
   "source": [
    "# scalar => Zero dimensional data\n",
    "scalar = torch.tensor(7)\n",
    "\n",
    "print(\"Scalar : \", scalar)"
   ]
  },
  {
   "cell_type": "code",
   "execution_count": 6,
   "id": "85c81d99",
   "metadata": {},
   "outputs": [
    {
     "name": "stdout",
     "output_type": "stream",
     "text": [
      "Dimensions :  0\n"
     ]
    }
   ],
   "source": [
    "print(\"Dimensions : \", scalar.ndim)"
   ]
  },
  {
   "cell_type": "code",
   "execution_count": 12,
   "id": "4dbe565e",
   "metadata": {},
   "outputs": [
    {
     "name": "stdout",
     "output_type": "stream",
     "text": [
      "Python Integer : 7\n",
      "Scalar tensor data type :  torch.int64\n",
      "Data Type :  <class 'int'>\n"
     ]
    }
   ],
   "source": [
    "print(\"Python Integer :\", scalar.item())\n",
    "\n",
    "print(\"Scalar tensor data type : \", scalar.dtype)\n",
    "\n",
    "integer = scalar.item()\n",
    "\n",
    "print(\"Data Type : \", type(integer))"
   ]
  },
  {
   "cell_type": "code",
   "execution_count": 16,
   "id": "4f7d8c4b",
   "metadata": {},
   "outputs": [
    {
     "name": "stdout",
     "output_type": "stream",
     "text": [
      "Shape scalar :  torch.Size([])\n"
     ]
    }
   ],
   "source": [
    "print(\"Shape scalar : \", scalar.shape)"
   ]
  },
  {
   "cell_type": "code",
   "execution_count": 14,
   "id": "0c9a5759",
   "metadata": {},
   "outputs": [
    {
     "name": "stdout",
     "output_type": "stream",
     "text": [
      "Vector :  tensor([4, 4])\n"
     ]
    }
   ],
   "source": [
    "# vector => One dimension data\n",
    "vector = torch.tensor([4, 4])\n",
    "print(\"Vector : \", vector)"
   ]
  },
  {
   "cell_type": "markdown",
   "id": "b4ba32a6",
   "metadata": {},
   "source": [
    "#### Based on the brackets the dimension would be determined"
   ]
  },
  {
   "cell_type": "code",
   "execution_count": 17,
   "id": "9bcda35a",
   "metadata": {},
   "outputs": [
    {
     "name": "stdout",
     "output_type": "stream",
     "text": [
      "Shape of the vecxtor :  torch.Size([2])\n"
     ]
    }
   ],
   "source": [
    "print(\"Shape of the vecxtor : \", vector.shape)   # torch[2]) => it describes the two elements placed in the square bracket"
   ]
  },
  {
   "cell_type": "code",
   "execution_count": 19,
   "id": "62ebf159",
   "metadata": {},
   "outputs": [
    {
     "name": "stdout",
     "output_type": "stream",
     "text": [
      "Matrix :  tensor([[1, 2],\n",
      "        [3, 4]])\n"
     ]
    }
   ],
   "source": [
    "# matrix => Two dimensional Data\n",
    "matrix = torch.tensor([[1, 2], [3, 4]])\n",
    "\n",
    "print(\"Matrix : \", matrix)"
   ]
  },
  {
   "cell_type": "code",
   "execution_count": 21,
   "id": "66286831",
   "metadata": {},
   "outputs": [
    {
     "name": "stdout",
     "output_type": "stream",
     "text": [
      "Shape Matrix :  torch.Size([2, 2])\n"
     ]
    }
   ],
   "source": [
    "# shape of the matrix\n",
    "print(\"Shape Matrix : \", matrix.shape) # torch([2, 3]) => 2 row x 2 col"
   ]
  },
  {
   "cell_type": "code",
   "execution_count": 22,
   "id": "75f93a3e",
   "metadata": {},
   "outputs": [
    {
     "name": "stdout",
     "output_type": "stream",
     "text": [
      "Dimension of matrix :  2\n"
     ]
    }
   ],
   "source": [
    "print(\"Dimension of matrix : \", matrix.ndim)"
   ]
  },
  {
   "cell_type": "code",
   "execution_count": 27,
   "id": "04cd7fd5",
   "metadata": {},
   "outputs": [
    {
     "name": "stdout",
     "output_type": "stream",
     "text": [
      "Tensor :  tensor([[[1, 2, 3],\n",
      "         [4, 5, 6],\n",
      "         [7, 8, 9]]])\n"
     ]
    }
   ],
   "source": [
    "# create an tensor\n",
    "tensor = torch.tensor([[[1, 2, 3], [4, 5, 6], [7, 8, 9]]])\n",
    "\n",
    "print(\"Tensor : \", tensor)"
   ]
  },
  {
   "cell_type": "code",
   "execution_count": 28,
   "id": "9e147671",
   "metadata": {},
   "outputs": [
    {
     "name": "stdout",
     "output_type": "stream",
     "text": [
      "Shape tensor :  torch.Size([1, 3, 3])\n"
     ]
    }
   ],
   "source": [
    "print(\"Shape tensor : \", tensor.shape)"
   ]
  },
  {
   "cell_type": "code",
   "execution_count": 26,
   "id": "aea3d5af",
   "metadata": {},
   "outputs": [
    {
     "name": "stdout",
     "output_type": "stream",
     "text": [
      "Dimension tensor :  3\n"
     ]
    }
   ],
   "source": [
    "print(\"Dimension tensor : \", tensor.ndim)  # Tensor => Three dimensional data"
   ]
  },
  {
   "cell_type": "code",
   "execution_count": 29,
   "id": "af7d6e47",
   "metadata": {},
   "outputs": [
    {
     "name": "stdout",
     "output_type": "stream",
     "text": [
      "Random tensor :  tensor([[0.9076, 0.4325, 0.2479],\n",
      "        [0.4018, 0.3989, 0.3251]])\n"
     ]
    }
   ],
   "source": [
    "# Random tensors\n",
    "randomTensor = torch.rand(size = (2, 3))\n",
    "\n",
    "print(\"Random tensor : \", randomTensor)"
   ]
  },
  {
   "cell_type": "code",
   "execution_count": 31,
   "id": "50091dcf",
   "metadata": {},
   "outputs": [
    {
     "name": "stdout",
     "output_type": "stream",
     "text": [
      "Shape of random tensor :  torch.Size([2, 3])\n"
     ]
    }
   ],
   "source": [
    "print(\"Shape of random tensor : \", randomTensor.shape)"
   ]
  },
  {
   "cell_type": "code",
   "execution_count": 32,
   "id": "7dcea9ec",
   "metadata": {},
   "outputs": [
    {
     "name": "stdout",
     "output_type": "stream",
     "text": [
      "Dimensionn random tensor :  2\n"
     ]
    }
   ],
   "source": [
    "print(\"Dimensionn random tensor : \", randomTensor.ndim)"
   ]
  },
  {
   "cell_type": "code",
   "execution_count": 37,
   "id": "6c50e68a",
   "metadata": {},
   "outputs": [
    {
     "name": "stdout",
     "output_type": "stream",
     "text": [
      "Shape image data :  torch.Size([244, 244, 3])\n",
      "Dimension image tensor :  3\n"
     ]
    }
   ],
   "source": [
    "# create an random tensor of shape (244, 244, 3)\n",
    "imageTensor = torch.rand(size=(244, 244, 3))\n",
    "\n",
    "# print(\"Image data tensor : \", imageTensor)\n",
    "\n",
    "print(\"Shape image data : \", imageTensor.shape)\n",
    "\n",
    "print(\"Dimension image tensor : \", imageTensor.ndim) # Three channels"
   ]
  },
  {
   "cell_type": "code",
   "execution_count": 38,
   "id": "634e51c6",
   "metadata": {},
   "outputs": [
    {
     "name": "stdout",
     "output_type": "stream",
     "text": [
      "Zeros data :  tensor([[0., 0., 0., 0.],\n",
      "        [0., 0., 0., 0.]])\n",
      "Shape of the data :  torch.Size([2, 4])\n",
      "Dimension of the data :  2\n",
      "Data Type of the data :  torch.float32\n"
     ]
    }
   ],
   "source": [
    "# creating zeros and ones in the tensor\n",
    "zeros = torch.zeros(size=(2, 4))\n",
    "\n",
    "print(\"Zeros data : \", zeros)\n",
    "\n",
    "print(\"Shape of the data : \", zeros.shape)\n",
    "\n",
    "print(\"Dimension of the data : \", zeros.ndim)\n",
    "\n",
    "print(\"Data Type of the data : \", zeros.dtype)"
   ]
  },
  {
   "cell_type": "code",
   "execution_count": 39,
   "id": "dda5ce6d",
   "metadata": {},
   "outputs": [
    {
     "name": "stdout",
     "output_type": "stream",
     "text": [
      "Zeros data :  tensor([[1., 1., 1., 1.],\n",
      "        [1., 1., 1., 1.]])\n",
      "Shape of the data :  torch.Size([2, 4])\n",
      "Dimension of the data :  2\n",
      "Data Type of the data :  torch.float32\n"
     ]
    }
   ],
   "source": [
    "# creating the tensor fills with the ones data\n",
    "ones = torch.ones(size=(2, 4))\n",
    "\n",
    "print(\"Zeros data : \", ones)\n",
    "\n",
    "print(\"Shape of the data : \", ones.shape)\n",
    "\n",
    "print(\"Dimension of the data : \", ones.ndim)\n",
    "\n",
    "print(\"Data Type of the data : \", ones.dtype)"
   ]
  },
  {
   "cell_type": "code",
   "execution_count": 40,
   "id": "aef4cb57",
   "metadata": {},
   "outputs": [
    {
     "name": "stdout",
     "output_type": "stream",
     "text": [
      "Range of numbers :  tensor([0, 1, 2, 3, 4, 5, 6, 7, 8, 9])\n"
     ]
    }
   ],
   "source": [
    "# create an tensor using range of numbers\n",
    "# Syntax => torch.arange(start, end, step)\n",
    "rangeTensor = torch.arange(0, 10) # step is optional\n",
    "\n",
    "print(\"Range of numbers : \", rangeTensor)"
   ]
  },
  {
   "cell_type": "code",
   "execution_count": 45,
   "id": "aae9de2e",
   "metadata": {},
   "outputs": [
    {
     "name": "stdout",
     "output_type": "stream",
     "text": [
      "Range of values with step value :  tensor([ 0,  2,  4,  6,  8, 10])\n",
      "Shape :  torch.Size([6])\n",
      "Dimension :  1\n"
     ]
    }
   ],
   "source": [
    "step = torch.arange(0, 11, 2)\n",
    "\n",
    "print(\"Range of values with step value : \", step)\n",
    "\n",
    "print(\"Shape : \", step.shape)\n",
    "\n",
    "print(\"Dimension : \", step.ndim) # vector data"
   ]
  },
  {
   "cell_type": "code",
   "execution_count": 46,
   "id": "d798572c",
   "metadata": {},
   "outputs": [
    {
     "name": "stdout",
     "output_type": "stream",
     "text": [
      "Zeros like :  tensor([0, 0, 0, 0, 0, 0])\n"
     ]
    }
   ],
   "source": [
    "# create an tensor with the prevous tensor shape\n",
    "zerosLike = torch.zeros_like(input = step)\n",
    "\n",
    "print(\"Zeros like : \", zerosLike)"
   ]
  },
  {
   "cell_type": "markdown",
   "id": "e390be4d",
   "metadata": {},
   "source": [
    "#### Default data type of the tensor was float-32"
   ]
  },
  {
   "cell_type": "code",
   "execution_count": 52,
   "id": "838a2c08",
   "metadata": {},
   "outputs": [],
   "source": [
    "float_32_Tensor = torch.tensor([1.0, 1.3, 1.5], dtype=None, device=None, requires_grad=True)"
   ]
  },
  {
   "cell_type": "code",
   "execution_count": 58,
   "id": "0de85375",
   "metadata": {},
   "outputs": [
    {
     "name": "stdout",
     "output_type": "stream",
     "text": [
      "Default dtype :  tensor([1.0000, 1.3000, 1.5000], requires_grad=True)\n",
      "Torch Device :  cpu\n",
      "Shape of the tensor :  torch.Size([3])\n",
      "Dtype of the tensor :  torch.float32\n"
     ]
    }
   ],
   "source": [
    "print(\"Default dtype : \", float_32_Tensor)\n",
    "\n",
    "print(\"Torch Device : \", float_32_Tensor.device)\n",
    "\n",
    "print(\"Shape of the tensor : \", float_32_Tensor.shape)\n",
    "\n",
    "print(\"Dtype of the tensor : \", float_32_Tensor.dtype)"
   ]
  },
  {
   "cell_type": "code",
   "execution_count": 56,
   "id": "2ae87da5",
   "metadata": {},
   "outputs": [],
   "source": [
    "float_16_Tensor = torch.tensor([1.7, 2.3, 3.5], dtype=torch.float16)"
   ]
  },
  {
   "cell_type": "code",
   "execution_count": 57,
   "id": "31893d19",
   "metadata": {},
   "outputs": [
    {
     "name": "stdout",
     "output_type": "stream",
     "text": [
      "Dtype of the tensor :  torch.float16\n"
     ]
    }
   ],
   "source": [
    "print(\"Dtype of the tensor : \", float_16_Tensor.dtype)"
   ]
  },
  {
   "cell_type": "markdown",
   "id": "6a5c51d9",
   "metadata": {},
   "source": [
    "### Getting information from the tensors"
   ]
  },
  {
   "cell_type": "code",
   "execution_count": 61,
   "id": "2c8d9011",
   "metadata": {},
   "outputs": [
    {
     "name": "stdout",
     "output_type": "stream",
     "text": [
      "Tensor :  tensor([[0.9035, 0.6229, 0.9084, 0.4088],\n",
      "        [0.1971, 0.1183, 0.0338, 0.2034]])\n",
      "Shape of the tensor : torch.Size([2, 4])\n",
      "DataTYpe of the tensor :  torch.float32\n",
      "Device associates with the tensor :  cpu\n"
     ]
    }
   ],
   "source": [
    "# create an random tensor\n",
    "infoTensor = torch.rand(2, 4)  # 2 row x 4 col\n",
    "\n",
    "# Some info from the tensor\n",
    "print(\"Tensor : \", infoTensor)\n",
    "\n",
    "print(\"Shape of the tensor :\", infoTensor.shape)\n",
    "\n",
    "print(\"DataTYpe of the tensor : \", infoTensor.dtype)\n",
    "\n",
    "print(\"Device associates with the tensor : \", infoTensor.device)"
   ]
  },
  {
   "cell_type": "markdown",
   "id": "0c4dda3d",
   "metadata": {},
   "source": [
    "### Manipulate the tensors with various operations"
   ]
  },
  {
   "cell_type": "code",
   "execution_count": 63,
   "id": "06f5cd7a",
   "metadata": {},
   "outputs": [
    {
     "data": {
      "text/plain": [
       "tensor([11, 12, 13])"
      ]
     },
     "execution_count": 63,
     "metadata": {},
     "output_type": "execute_result"
    }
   ],
   "source": [
    "# basic operations on the tensor\n",
    "# addition, subraction ,multiplication (Element wise)\n",
    "addTensor = torch.tensor([1,2,3])\n",
    "\n",
    "addTensor + 10 # adds 10 with the each item in the tesnor"
   ]
  },
  {
   "cell_type": "code",
   "execution_count": 65,
   "id": "a8639618",
   "metadata": {},
   "outputs": [
    {
     "data": {
      "text/plain": [
       "tensor([10, 20, 30])"
      ]
     },
     "execution_count": 65,
     "metadata": {},
     "output_type": "execute_result"
    }
   ],
   "source": [
    "# multiply by 10\n",
    "addTensor * 10  # temporary update becoz it would not be store in the variable"
   ]
  },
  {
   "cell_type": "code",
   "execution_count": 66,
   "id": "d99cd595",
   "metadata": {},
   "outputs": [
    {
     "name": "stdout",
     "output_type": "stream",
     "text": [
      "Original Tensor : tensor([1, 2, 3])\n"
     ]
    }
   ],
   "source": [
    "# print the original tensor\n",
    "print(\"Original Tensor :\", addTensor)"
   ]
  },
  {
   "cell_type": "code",
   "execution_count": 68,
   "id": "1c521a94",
   "metadata": {},
   "outputs": [
    {
     "name": "stdout",
     "output_type": "stream",
     "text": [
      "New Tensor :  tensor([-9, -8, -7])\n"
     ]
    }
   ],
   "source": [
    "# subract operation\n",
    "# reassign the values\n",
    "newTensor = addTensor - 10\n",
    "\n",
    "print(\"New Tensor : \", newTensor)"
   ]
  },
  {
   "cell_type": "code",
   "execution_count": 69,
   "id": "ef5fddb0",
   "metadata": {},
   "outputs": [
    {
     "name": "stdout",
     "output_type": "stream",
     "text": [
      "Updated Tensor :  tensor([1, 2, 3])\n"
     ]
    }
   ],
   "source": [
    "# reassign with the addition operation\n",
    "newTensor = newTensor + 10\n",
    "\n",
    "print(\"Updated Tensor : \", newTensor)"
   ]
  },
  {
   "cell_type": "code",
   "execution_count": 72,
   "id": "d0c3b9c6",
   "metadata": {},
   "outputs": [
    {
     "data": {
      "text/plain": [
       "tensor([21, 22, 23])"
      ]
     },
     "execution_count": 72,
     "metadata": {},
     "output_type": "execute_result"
    }
   ],
   "source": [
    "# torch also contains the built in basic operations\n",
    "torch.add(addTensor, 20)  # it would not update the original tensor"
   ]
  },
  {
   "cell_type": "code",
   "execution_count": 73,
   "id": "0f763952",
   "metadata": {},
   "outputs": [
    {
     "name": "stdout",
     "output_type": "stream",
     "text": [
      "Element Wise Multiplication\n",
      "tensor([1, 4, 9])\n"
     ]
    }
   ],
   "source": [
    "# Element wise multiplication\n",
    "print(\"Element Wise Multiplication\")\n",
    "print(addTensor * addTensor)"
   ]
  },
  {
   "cell_type": "code",
   "execution_count": 76,
   "id": "234fa309",
   "metadata": {},
   "outputs": [
    {
     "name": "stdout",
     "output_type": "stream",
     "text": [
      "tensor([1, 4, 9])\n",
      "tensor([1, 4, 9])\n"
     ]
    }
   ],
   "source": [
    "# using torch.mul() operation\n",
    "print(torch.mul(addTensor, addTensor))\n",
    "\n",
    "print(addTensor * addTensor)"
   ]
  },
  {
   "cell_type": "markdown",
   "id": "2107beec",
   "metadata": {},
   "source": [
    "### Matrix multiplication (All you need)"
   ]
  },
  {
   "cell_type": "markdown",
   "id": "f8ac3207",
   "metadata": {},
   "source": [
    "# torch.matmul() => used for matrix multiplication\n",
    "\n",
    "    Rules to be followed for matrix multiplication :\n",
    "        1. Inner dimensions must be match\n",
    "            For example :\n",
    "                * (3, 2) @ (3, 2) won't work\n",
    "                * (2, 3) @ (3, 2) will work\n",
    "        2. Resultant matrix has the shape of the outer matrix\n",
    "            For exmaple :\n",
    "                * (2, 3) @ (3, 2) -> (2, 2)\n"
   ]
  },
  {
   "cell_type": "code",
   "execution_count": 78,
   "id": "69676858",
   "metadata": {},
   "outputs": [],
   "source": [
    "# @ in python would used for matrix multiplication"
   ]
  },
  {
   "cell_type": "code",
   "execution_count": null,
   "id": "353bdb39",
   "metadata": {},
   "outputs": [],
   "source": []
  }
 ],
 "metadata": {
  "kernelspec": {
   "display_name": "Python 3 (ipykernel)",
   "language": "python",
   "name": "python3"
  },
  "language_info": {
   "codemirror_mode": {
    "name": "ipython",
    "version": 3
   },
   "file_extension": ".py",
   "mimetype": "text/x-python",
   "name": "python",
   "nbconvert_exporter": "python",
   "pygments_lexer": "ipython3",
   "version": "3.11.1"
  }
 },
 "nbformat": 4,
 "nbformat_minor": 5
}

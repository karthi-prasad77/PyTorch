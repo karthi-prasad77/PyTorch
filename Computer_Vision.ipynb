{
 "cells": [
  {
   "cell_type": "markdown",
   "id": "018262d4",
   "metadata": {},
   "source": [
    "### Multi Class Classification"
   ]
  },
  {
   "cell_type": "code",
   "execution_count": 1,
   "id": "7c1df05f",
   "metadata": {},
   "outputs": [],
   "source": [
    "# import the relevant libraries\n",
    "import torch\n",
    "from torch import nn\n",
    "\n",
    "# import torchvisiomn and its modules\n",
    "import torchvision\n",
    "from torchvision import datasets\n",
    "\n",
    "from torchvision.transforms import ToTensor\n",
    "from torch.utils.data import DataLoader\n",
    "from torch import optim\n",
    "\n",
    "# library for visualization\n",
    "import matplotlib.pyplot as plt"
   ]
  },
  {
   "cell_type": "code",
   "execution_count": 2,
   "id": "2d62ecf0",
   "metadata": {},
   "outputs": [
    {
     "name": "stdout",
     "output_type": "stream",
     "text": [
      "PyTorch Version: 2.0.1+cu118 \n",
      "Torch Vision Version: 0.15.2+cu118\n"
     ]
    }
   ],
   "source": [
    "# check the version of the torch and torchvision\n",
    "print(f\"PyTorch Version: {torch.__version__} \\nTorch Vision Version: {torchvision.__version__}\")"
   ]
  },
  {
   "cell_type": "markdown",
   "id": "31213ac4",
   "metadata": {},
   "source": [
    "### Getting the dataset"
   ]
  },
  {
   "cell_type": "markdown",
   "id": "3529642a",
   "metadata": {},
   "source": [
    "Note: Computer vision model uses the computer vision dataset\n",
    "\n",
    "- MNIST => Modified National Institute of Standards and Technology"
   ]
  },
  {
   "cell_type": "markdown",
   "id": "7be78a25",
   "metadata": {},
   "source": [
    "### Download the dataset"
   ]
  },
  {
   "cell_type": "code",
   "execution_count": 3,
   "id": "bffb7b38",
   "metadata": {},
   "outputs": [],
   "source": [
    "# create the training data\n",
    "train_data = datasets.FashionMNIST(\n",
    "    root = \"Data\", # where the dataset needs to be download\n",
    "    train = True, # get training data\n",
    "    download = True, # download the dataset\n",
    "    transform = ToTensor(), # convert the images into an tensor of float32 type\n",
    "    target_transform = None # set the target transform into None (Nothing)\n",
    ")\n",
    "\n",
    "# create the testing data\n",
    "test_data = datasets.FashionMNIST(\n",
    "    root = \"Data\",\n",
    "    train = False, # requires an testing data not an training data\n",
    "    download = True,\n",
    "    transform = ToTensor()\n",
    ")"
   ]
  },
  {
   "cell_type": "code",
   "execution_count": 4,
   "id": "a25ccc8a",
   "metadata": {},
   "outputs": [
    {
     "name": "stdout",
     "output_type": "stream",
     "text": [
      "Image: tensor([[[0.0000, 0.0000, 0.0000, 0.0000, 0.0000, 0.0000, 0.0000, 0.0000,\n",
      "          0.0000, 0.0000, 0.0000, 0.0000, 0.0000, 0.0000, 0.0000, 0.0000,\n",
      "          0.0000, 0.0000, 0.0000, 0.0000, 0.0000, 0.0000, 0.0000, 0.0000,\n",
      "          0.0000, 0.0000, 0.0000, 0.0000],\n",
      "         [0.0000, 0.0000, 0.0000, 0.0000, 0.0000, 0.0000, 0.0000, 0.0000,\n",
      "          0.0000, 0.0000, 0.0000, 0.0000, 0.0000, 0.0000, 0.0000, 0.0000,\n",
      "          0.0000, 0.0000, 0.0000, 0.0000, 0.0000, 0.0000, 0.0000, 0.0000,\n",
      "          0.0000, 0.0000, 0.0000, 0.0000],\n",
      "         [0.0000, 0.0000, 0.0000, 0.0000, 0.0000, 0.0000, 0.0000, 0.0000,\n",
      "          0.0000, 0.0000, 0.0000, 0.0000, 0.0000, 0.0000, 0.0000, 0.0000,\n",
      "          0.0000, 0.0000, 0.0000, 0.0000, 0.0000, 0.0000, 0.0000, 0.0000,\n",
      "          0.0000, 0.0000, 0.0000, 0.0000],\n",
      "         [0.0000, 0.0000, 0.0000, 0.0000, 0.0000, 0.0000, 0.0000, 0.0000,\n",
      "          0.0000, 0.0000, 0.0000, 0.0000, 0.0039, 0.0000, 0.0000, 0.0510,\n",
      "          0.2863, 0.0000, 0.0000, 0.0039, 0.0157, 0.0000, 0.0000, 0.0000,\n",
      "          0.0000, 0.0039, 0.0039, 0.0000],\n",
      "         [0.0000, 0.0000, 0.0000, 0.0000, 0.0000, 0.0000, 0.0000, 0.0000,\n",
      "          0.0000, 0.0000, 0.0000, 0.0000, 0.0118, 0.0000, 0.1412, 0.5333,\n",
      "          0.4980, 0.2431, 0.2118, 0.0000, 0.0000, 0.0000, 0.0039, 0.0118,\n",
      "          0.0157, 0.0000, 0.0000, 0.0118],\n",
      "         [0.0000, 0.0000, 0.0000, 0.0000, 0.0000, 0.0000, 0.0000, 0.0000,\n",
      "          0.0000, 0.0000, 0.0000, 0.0000, 0.0235, 0.0000, 0.4000, 0.8000,\n",
      "          0.6902, 0.5255, 0.5647, 0.4824, 0.0902, 0.0000, 0.0000, 0.0000,\n",
      "          0.0000, 0.0471, 0.0392, 0.0000],\n",
      "         [0.0000, 0.0000, 0.0000, 0.0000, 0.0000, 0.0000, 0.0000, 0.0000,\n",
      "          0.0000, 0.0000, 0.0000, 0.0000, 0.0000, 0.0000, 0.6078, 0.9255,\n",
      "          0.8118, 0.6980, 0.4196, 0.6118, 0.6314, 0.4275, 0.2510, 0.0902,\n",
      "          0.3020, 0.5098, 0.2824, 0.0588],\n",
      "         [0.0000, 0.0000, 0.0000, 0.0000, 0.0000, 0.0000, 0.0000, 0.0000,\n",
      "          0.0000, 0.0000, 0.0000, 0.0039, 0.0000, 0.2706, 0.8118, 0.8745,\n",
      "          0.8549, 0.8471, 0.8471, 0.6392, 0.4980, 0.4745, 0.4784, 0.5725,\n",
      "          0.5529, 0.3451, 0.6745, 0.2588],\n",
      "         [0.0000, 0.0000, 0.0000, 0.0000, 0.0000, 0.0000, 0.0000, 0.0000,\n",
      "          0.0000, 0.0039, 0.0039, 0.0039, 0.0000, 0.7843, 0.9098, 0.9098,\n",
      "          0.9137, 0.8980, 0.8745, 0.8745, 0.8431, 0.8353, 0.6431, 0.4980,\n",
      "          0.4824, 0.7686, 0.8980, 0.0000],\n",
      "         [0.0000, 0.0000, 0.0000, 0.0000, 0.0000, 0.0000, 0.0000, 0.0000,\n",
      "          0.0000, 0.0000, 0.0000, 0.0000, 0.0000, 0.7176, 0.8824, 0.8471,\n",
      "          0.8745, 0.8941, 0.9216, 0.8902, 0.8784, 0.8706, 0.8784, 0.8667,\n",
      "          0.8745, 0.9608, 0.6784, 0.0000],\n",
      "         [0.0000, 0.0000, 0.0000, 0.0000, 0.0000, 0.0000, 0.0000, 0.0000,\n",
      "          0.0000, 0.0000, 0.0000, 0.0000, 0.0000, 0.7569, 0.8941, 0.8549,\n",
      "          0.8353, 0.7765, 0.7059, 0.8314, 0.8235, 0.8275, 0.8353, 0.8745,\n",
      "          0.8627, 0.9529, 0.7922, 0.0000],\n",
      "         [0.0000, 0.0000, 0.0000, 0.0000, 0.0000, 0.0000, 0.0000, 0.0000,\n",
      "          0.0000, 0.0039, 0.0118, 0.0000, 0.0471, 0.8588, 0.8627, 0.8314,\n",
      "          0.8549, 0.7529, 0.6627, 0.8902, 0.8157, 0.8549, 0.8784, 0.8314,\n",
      "          0.8863, 0.7725, 0.8196, 0.2039],\n",
      "         [0.0000, 0.0000, 0.0000, 0.0000, 0.0000, 0.0000, 0.0000, 0.0000,\n",
      "          0.0000, 0.0000, 0.0235, 0.0000, 0.3882, 0.9569, 0.8706, 0.8627,\n",
      "          0.8549, 0.7961, 0.7765, 0.8667, 0.8431, 0.8353, 0.8706, 0.8627,\n",
      "          0.9608, 0.4667, 0.6549, 0.2196],\n",
      "         [0.0000, 0.0000, 0.0000, 0.0000, 0.0000, 0.0000, 0.0000, 0.0000,\n",
      "          0.0000, 0.0157, 0.0000, 0.0000, 0.2157, 0.9255, 0.8941, 0.9020,\n",
      "          0.8941, 0.9412, 0.9098, 0.8353, 0.8549, 0.8745, 0.9176, 0.8510,\n",
      "          0.8510, 0.8196, 0.3608, 0.0000],\n",
      "         [0.0000, 0.0000, 0.0039, 0.0157, 0.0235, 0.0275, 0.0078, 0.0000,\n",
      "          0.0000, 0.0000, 0.0000, 0.0000, 0.9294, 0.8863, 0.8510, 0.8745,\n",
      "          0.8706, 0.8588, 0.8706, 0.8667, 0.8471, 0.8745, 0.8980, 0.8431,\n",
      "          0.8549, 1.0000, 0.3020, 0.0000],\n",
      "         [0.0000, 0.0118, 0.0000, 0.0000, 0.0000, 0.0000, 0.0000, 0.0000,\n",
      "          0.0000, 0.2431, 0.5686, 0.8000, 0.8941, 0.8118, 0.8353, 0.8667,\n",
      "          0.8549, 0.8157, 0.8275, 0.8549, 0.8784, 0.8745, 0.8588, 0.8431,\n",
      "          0.8784, 0.9569, 0.6235, 0.0000],\n",
      "         [0.0000, 0.0000, 0.0000, 0.0000, 0.0706, 0.1725, 0.3216, 0.4196,\n",
      "          0.7412, 0.8941, 0.8627, 0.8706, 0.8510, 0.8863, 0.7843, 0.8039,\n",
      "          0.8275, 0.9020, 0.8784, 0.9176, 0.6902, 0.7373, 0.9804, 0.9725,\n",
      "          0.9137, 0.9333, 0.8431, 0.0000],\n",
      "         [0.0000, 0.2235, 0.7333, 0.8157, 0.8784, 0.8667, 0.8784, 0.8157,\n",
      "          0.8000, 0.8392, 0.8157, 0.8196, 0.7843, 0.6235, 0.9608, 0.7569,\n",
      "          0.8078, 0.8745, 1.0000, 1.0000, 0.8667, 0.9176, 0.8667, 0.8275,\n",
      "          0.8627, 0.9098, 0.9647, 0.0000],\n",
      "         [0.0118, 0.7922, 0.8941, 0.8784, 0.8667, 0.8275, 0.8275, 0.8392,\n",
      "          0.8039, 0.8039, 0.8039, 0.8627, 0.9412, 0.3137, 0.5882, 1.0000,\n",
      "          0.8980, 0.8667, 0.7373, 0.6039, 0.7490, 0.8235, 0.8000, 0.8196,\n",
      "          0.8706, 0.8941, 0.8824, 0.0000],\n",
      "         [0.3843, 0.9137, 0.7765, 0.8235, 0.8706, 0.8980, 0.8980, 0.9176,\n",
      "          0.9765, 0.8627, 0.7608, 0.8431, 0.8510, 0.9451, 0.2549, 0.2863,\n",
      "          0.4157, 0.4588, 0.6588, 0.8588, 0.8667, 0.8431, 0.8510, 0.8745,\n",
      "          0.8745, 0.8784, 0.8980, 0.1137],\n",
      "         [0.2941, 0.8000, 0.8314, 0.8000, 0.7569, 0.8039, 0.8275, 0.8824,\n",
      "          0.8471, 0.7255, 0.7725, 0.8078, 0.7765, 0.8353, 0.9412, 0.7647,\n",
      "          0.8902, 0.9608, 0.9373, 0.8745, 0.8549, 0.8314, 0.8196, 0.8706,\n",
      "          0.8627, 0.8667, 0.9020, 0.2627],\n",
      "         [0.1882, 0.7961, 0.7176, 0.7608, 0.8353, 0.7725, 0.7255, 0.7451,\n",
      "          0.7608, 0.7529, 0.7922, 0.8392, 0.8588, 0.8667, 0.8627, 0.9255,\n",
      "          0.8824, 0.8471, 0.7804, 0.8078, 0.7294, 0.7098, 0.6941, 0.6745,\n",
      "          0.7098, 0.8039, 0.8078, 0.4510],\n",
      "         [0.0000, 0.4784, 0.8588, 0.7569, 0.7020, 0.6706, 0.7176, 0.7686,\n",
      "          0.8000, 0.8235, 0.8353, 0.8118, 0.8275, 0.8235, 0.7843, 0.7686,\n",
      "          0.7608, 0.7490, 0.7647, 0.7490, 0.7765, 0.7529, 0.6902, 0.6118,\n",
      "          0.6549, 0.6941, 0.8235, 0.3608],\n",
      "         [0.0000, 0.0000, 0.2902, 0.7412, 0.8314, 0.7490, 0.6863, 0.6745,\n",
      "          0.6863, 0.7098, 0.7255, 0.7373, 0.7412, 0.7373, 0.7569, 0.7765,\n",
      "          0.8000, 0.8196, 0.8235, 0.8235, 0.8275, 0.7373, 0.7373, 0.7608,\n",
      "          0.7529, 0.8471, 0.6667, 0.0000],\n",
      "         [0.0078, 0.0000, 0.0000, 0.0000, 0.2588, 0.7843, 0.8706, 0.9294,\n",
      "          0.9373, 0.9490, 0.9647, 0.9529, 0.9569, 0.8667, 0.8627, 0.7569,\n",
      "          0.7490, 0.7020, 0.7137, 0.7137, 0.7098, 0.6902, 0.6510, 0.6588,\n",
      "          0.3882, 0.2275, 0.0000, 0.0000],\n",
      "         [0.0000, 0.0000, 0.0000, 0.0000, 0.0000, 0.0000, 0.0000, 0.1569,\n",
      "          0.2392, 0.1725, 0.2824, 0.1608, 0.1373, 0.0000, 0.0000, 0.0000,\n",
      "          0.0000, 0.0000, 0.0000, 0.0000, 0.0000, 0.0000, 0.0000, 0.0000,\n",
      "          0.0000, 0.0000, 0.0000, 0.0000],\n",
      "         [0.0000, 0.0000, 0.0000, 0.0000, 0.0000, 0.0000, 0.0000, 0.0000,\n",
      "          0.0000, 0.0000, 0.0000, 0.0000, 0.0000, 0.0000, 0.0000, 0.0000,\n",
      "          0.0000, 0.0000, 0.0000, 0.0000, 0.0000, 0.0000, 0.0000, 0.0000,\n",
      "          0.0000, 0.0000, 0.0000, 0.0000],\n",
      "         [0.0000, 0.0000, 0.0000, 0.0000, 0.0000, 0.0000, 0.0000, 0.0000,\n",
      "          0.0000, 0.0000, 0.0000, 0.0000, 0.0000, 0.0000, 0.0000, 0.0000,\n",
      "          0.0000, 0.0000, 0.0000, 0.0000, 0.0000, 0.0000, 0.0000, 0.0000,\n",
      "          0.0000, 0.0000, 0.0000, 0.0000]]]), \n",
      " Label: 9\n"
     ]
    }
   ],
   "source": [
    "# check the sample of the dataset (population)\n",
    "image, label = train_data[0]\n",
    "print(f\"Image: {image}, \\n Label: {label}\")"
   ]
  },
  {
   "cell_type": "markdown",
   "id": "240f1285",
   "metadata": {},
   "source": [
    "Note: The image would be an greyscale image"
   ]
  },
  {
   "cell_type": "markdown",
   "id": "46d65843",
   "metadata": {},
   "source": [
    "### Input and Output shapes of the computer vision model"
   ]
  },
  {
   "cell_type": "code",
   "execution_count": 5,
   "id": "d3542bd4",
   "metadata": {},
   "outputs": [
    {
     "name": "stdout",
     "output_type": "stream",
     "text": [
      "Shape of the image: torch.Size([1, 28, 28])\n"
     ]
    },
    {
     "data": {
      "text/plain": [
       "'\\n    [1, 28, 28] => 1: channel\\n                   28: height\\n                   28: width\\n'"
      ]
     },
     "execution_count": 5,
     "metadata": {},
     "output_type": "execute_result"
    }
   ],
   "source": [
    "# target (output) would be one (label)\n",
    "# check the shape of the image\n",
    "print(f\"Shape of the image: {image.shape}\")  # 28 x 28 pixels in 1 channel\n",
    "\n",
    "\"\"\"\n",
    "    [1, 28, 28] => 1: channel\n",
    "                   28: height\n",
    "                   28: width\n",
    "\"\"\""
   ]
  },
  {
   "cell_type": "code",
   "execution_count": 6,
   "id": "96f97ca1",
   "metadata": {},
   "outputs": [
    {
     "data": {
      "text/plain": [
       "(60000, 60000, 10000, 10000)"
      ]
     },
     "execution_count": 6,
     "metadata": {},
     "output_type": "execute_result"
    }
   ],
   "source": [
    "# check for the training and testing data\n",
    "len(train_data.data), len(train_data.targets), len(test_data.data), len(test_data.targets)"
   ]
  },
  {
   "cell_type": "markdown",
   "id": "8a41cf0f",
   "metadata": {},
   "source": [
    "Note: 60000 samples for training and 10000 samples for testing"
   ]
  },
  {
   "cell_type": "code",
   "execution_count": 7,
   "id": "0e2418c2",
   "metadata": {},
   "outputs": [
    {
     "data": {
      "text/plain": [
       "['T-shirt/top',\n",
       " 'Trouser',\n",
       " 'Pullover',\n",
       " 'Dress',\n",
       " 'Coat',\n",
       " 'Sandal',\n",
       " 'Shirt',\n",
       " 'Sneaker',\n",
       " 'Bag',\n",
       " 'Ankle boot']"
      ]
     },
     "execution_count": 7,
     "metadata": {},
     "output_type": "execute_result"
    }
   ],
   "source": [
    "# check the available classes in the FashionMNIST data\n",
    "class_names = train_data.classes\n",
    "class_names"
   ]
  },
  {
   "cell_type": "markdown",
   "id": "04d7c7bf",
   "metadata": {},
   "source": [
    "### Visualize the data"
   ]
  },
  {
   "cell_type": "code",
   "execution_count": 8,
   "id": "41d9935a",
   "metadata": {},
   "outputs": [
    {
     "name": "stdout",
     "output_type": "stream",
     "text": [
      "Image Shape: torch.Size([1, 28, 28])\n"
     ]
    },
    {
     "data": {
      "text/plain": [
       "Text(0.5, 1.0, 'Lbael: 9')"
      ]
     },
     "execution_count": 8,
     "metadata": {},
     "output_type": "execute_result"
    },
    {
     "data": {
      "image/png": "[encoded data removed]",
      "text/plain": [
       "<Figure size 640x480 with 1 Axes>"
      ]
     },
     "metadata": {},
     "output_type": "display_data"
    }
   ],
   "source": [
    "image, label = train_data[0]\n",
    "print(f\"Image Shape: {image.shape}\")\n",
    "#print(f\"Squeezed data: {image.squeeze().shape}\") # remove the color channel\n",
    "plt.imshow(image.squeeze())\n",
    "plt.title(f\"Lbael: {label}\")"
   ]
  },
  {
   "cell_type": "code",
   "execution_count": 9,
   "id": "f45025e3",
   "metadata": {},
   "outputs": [
    {
     "data": {
      "text/plain": [
       "Text(0.5, 1.0, 'Label: Ankle boot')"
      ]
     },
     "execution_count": 9,
     "metadata": {},
     "output_type": "execute_result"
    },
    {
     "data": {
      "image/png": "[encoded data removed]",
      "text/plain": [
       "<Figure size 640x480 with 1 Axes>"
      ]
     },
     "metadata": {},
     "output_type": "display_data"
    }
   ],
   "source": [
    "# convert the image into grayscale\n",
    "plt.imshow(image.squeeze(), cmap = \"gray\")\n",
    "plt.title(f\"Label: {class_names[label]}\")"
   ]
  },
  {
   "cell_type": "code",
   "execution_count": 10,
   "id": "d315630c",
   "metadata": {},
   "outputs": [
    {
     "data": {
      "image/png": "[encoded data removed]",
      "text/plain": [
       "<Figure size 900x900 with 16 Axes>"
      ]
     },
     "metadata": {},
     "output_type": "display_data"
    }
   ],
   "source": [
    "# examine the other images with different labels\n",
    "torch.manual_seed(42)\n",
    "fig = plt.figure(figsize = (9, 9))\n",
    "rows, cols = 4, 4\n",
    "\n",
    "for i in range(1, rows*cols + 1):\n",
    "    random_idx = torch.randint(0, len(train_data), size = [1]).item()  # remove the tensor and only allows the data\n",
    "    img, label = train_data[random_idx]\n",
    "    fig.add_subplot(rows, cols, i)\n",
    "    plt.imshow(img.squeeze(), cmap = \"gray\")\n",
    "    plt.title(f\"Label: {class_names[label]}\")\n",
    "    # remove the noisyness\n",
    "    plt.axis(False)"
   ]
  },
  {
   "cell_type": "markdown",
   "id": "b0d883e9",
   "metadata": {},
   "source": [
    "### Create an Data Loader"
   ]
  },
  {
   "cell_type": "code",
   "execution_count": 11,
   "id": "1022b2b9",
   "metadata": {},
   "outputs": [],
   "source": [
    "\n",
    "# set the batch size\n",
    "BATCH_SIZE = 32 # hyperparameter\n",
    "\n",
    "# turn the dataset into iterables (batches)\n",
    "train_DataLoader = DataLoader(train_data, # dataset into an iterables\n",
    "    batch_size = BATCH_SIZE, # how many smaples per epoch ?\n",
    "    shuffle = True # shuffle the data every epoch\n",
    ")\n",
    "\n",
    "# create an test loader\n",
    "test_DataLoader = DataLoader(test_data,\n",
    "    batch_size = BATCH_SIZE,\n",
    "    shuffle = False # it is not mandatory to shuffle the testing data\n",
    ")"
   ]
  },
  {
   "cell_type": "code",
   "execution_count": 12,
   "id": "4c6e2c3c",
   "metadata": {},
   "outputs": [
    {
     "data": {
      "text/plain": [
       "Dataset FashionMNIST\n",
       "    Number of datapoints: 60000\n",
       "    Root location: Data\n",
       "    Split: Train\n",
       "    StandardTransform\n",
       "Transform: ToTensor()"
      ]
     },
     "execution_count": 12,
     "metadata": {},
     "output_type": "execute_result"
    }
   ],
   "source": [
    "train_data"
   ]
  },
  {
   "cell_type": "code",
   "execution_count": 13,
   "id": "673b1835",
   "metadata": {},
   "outputs": [
    {
     "name": "stdout",
     "output_type": "stream",
     "text": [
      "DataLoaders: (<torch.utils.data.dataloader.DataLoader object at 0x0000013566333E90>, <torch.utils.data.dataloader.DataLoader object at 0x00000135663B0D10>)\n",
      "Length of the train loader: 1875 batches of 32\n",
      "Length of the test loader: 313 batches of 32\n"
     ]
    }
   ],
   "source": [
    "# let's check the data created in the dataloader\n",
    "print(f\"DataLoaders: {train_DataLoader, test_DataLoader}\")\n",
    "print(f\"Length of the train loader: {len(train_DataLoader)} batches of {BATCH_SIZE}\")\n",
    "print(f\"Length of the test loader: {len(test_DataLoader)} batches of {BATCH_SIZE}\")"
   ]
  },
  {
   "cell_type": "code",
   "execution_count": 14,
   "id": "697e00d6",
   "metadata": {},
   "outputs": [
    {
     "data": {
      "text/plain": [
       "torch.utils.data.dataloader.DataLoader"
      ]
     },
     "execution_count": 14,
     "metadata": {},
     "output_type": "execute_result"
    }
   ],
   "source": [
    "type(train_DataLoader)"
   ]
  },
  {
   "cell_type": "code",
   "execution_count": 15,
   "id": "a45b02a1",
   "metadata": {},
   "outputs": [
    {
     "data": {
      "text/plain": [
       "(torch.Size([32, 1, 28, 28]), torch.Size([32]))"
      ]
     },
     "execution_count": 15,
     "metadata": {},
     "output_type": "execute_result"
    }
   ],
   "source": [
    "# check the data in thw train loader\n",
    "# train_DataLoader -> is an iterable\n",
    "train_features_batch, train_labels_batch = next(iter(train_DataLoader))\n",
    "\n",
    "train_features_batch.shape, train_labels_batch.shape"
   ]
  },
  {
   "cell_type": "markdown",
   "id": "6a25517c",
   "metadata": {},
   "source": [
    "Note: 32 data for each batch (1875)"
   ]
  },
  {
   "cell_type": "code",
   "execution_count": 16,
   "id": "703de89c",
   "metadata": {},
   "outputs": [
    {
     "name": "stdout",
     "output_type": "stream",
     "text": [
      "Image Size: torch.Size([1, 28, 28])\n",
      "Label: 6, label_size: torch.Size([])\n"
     ]
    },
    {
     "data": {
      "image/png": "[encoded data removed]",
      "text/plain": [
       "<Figure size 640x480 with 1 Axes>"
      ]
     },
     "metadata": {},
     "output_type": "display_data"
    }
   ],
   "source": [
    "# check the sample data\n",
    "torch.manual_seed(42)\n",
    "\n",
    "random_idx = torch.randint(0, len(train_features_batch), size=[1]).item()\n",
    "img, label = train_features_batch[random_idx], train_labels_batch[random_idx]\n",
    "\n",
    "plt.imshow(img.squeeze(), cmap = \"gray\")\n",
    "plt.title(f\"Label: {class_names[label]}\")\n",
    "plt.axis(\"Off\")\n",
    "\n",
    "print(f\"Image Size: {img.shape}\")\n",
    "print(f\"Label: {label}, label_size: {label.shape}\")"
   ]
  },
  {
   "cell_type": "markdown",
   "id": "24e1b54b",
   "metadata": {},
   "source": [
    "### Building an Baseline model"
   ]
  },
  {
   "cell_type": "code",
   "execution_count": 17,
   "id": "85921a33",
   "metadata": {},
   "outputs": [
    {
     "name": "stdout",
     "output_type": "stream",
     "text": [
      "Shape before flattening: torch.Size([1, 28, 28]) -> [color_channles, height, width]\n",
      "Shape after flattening: torch.Size([1, 784]) -> [color_channles, height * width]\n"
     ]
    }
   ],
   "source": [
    "# experiment with the flatten layer\n",
    "flatten_model = nn.Flatten() \n",
    "\n",
    "# get an single sample\n",
    "x = train_features_batch[0]\n",
    "\n",
    "# convert the image into an single vector (single dimension)\n",
    "# flatten the sample\n",
    "output = flatten_model(x)  # forward pass\n",
    "\n",
    "print(f\"Shape before flattening: {x.shape} -> [color_channles, height, width]\")\n",
    "print(f\"Shape after flattening: {output.shape} -> [color_channles, height * width]\")\n",
    "\n",
    "# one long feature vector"
   ]
  },
  {
   "cell_type": "markdown",
   "id": "a25d0b9b",
   "metadata": {},
   "source": [
    "Note: the nn.Linear() would like an feature vector"
   ]
  },
  {
   "cell_type": "code",
   "execution_count": 18,
   "id": "69b667ba",
   "metadata": {},
   "outputs": [],
   "source": [
    "# create an model\n",
    "class FashionMnistModelV0(nn.Module):\n",
    "    def __init__(self, input_shape: int, hidden_units: int, output_shape: int):\n",
    "        super().__init__()\n",
    "        self.layer_stack = nn.Sequential(\n",
    "            nn.Flatten(), # neural networks like their inputs in an vector form\n",
    "            nn.Linear(in_features=input_shape, out_features=hidden_units), # in_features => it would be the height * width (One long vector)\n",
    "            nn.Linear(in_features=hidden_units, out_features=output_shape)\n",
    "        )\n",
    "    def forward(self, x):\n",
    "        return self.layer_stack(x)\n",
    "        \n",
    "# 784 pixels for each image (height * width)"
   ]
  },
  {
   "cell_type": "code",
   "execution_count": 19,
   "id": "aec44c80",
   "metadata": {},
   "outputs": [
    {
     "data": {
      "text/plain": [
       "FashionMnistModelV0(\n",
       "  (layer_stack): Sequential(\n",
       "    (0): Flatten(start_dim=1, end_dim=-1)\n",
       "    (1): Linear(in_features=784, out_features=10, bias=True)\n",
       "    (2): Linear(in_features=10, out_features=10, bias=True)\n",
       "  )\n",
       ")"
      ]
     },
     "execution_count": 19,
     "metadata": {},
     "output_type": "execute_result"
    }
   ],
   "source": [
    "# set the reproducible seed\n",
    "torch.manual_seed(42)\n",
    "\n",
    "# create an object for the model\n",
    "modelV0 = FashionMnistModelV0(input_shape=784, hidden_units=10, output_shape=10)\n",
    "\n",
    "# set the model to train on CPU\n",
    "modelV0.to(\"cpu\")"
   ]
  },
  {
   "cell_type": "markdown",
   "id": "ab867f04",
   "metadata": {},
   "source": [
    "### Setup the loss, optimizer and evaluation metrics"
   ]
  },
  {
   "cell_type": "code",
   "execution_count": 20,
   "id": "406a65be",
   "metadata": {},
   "outputs": [],
   "source": [
    "# setup the custom accuracy method\n",
    "def accuracyFn(y_true, y_pred):\n",
    "    correct = torch.eq(y_true, y_pred).sum().item() # claculates where two tensors are equal\n",
    "    acc = (correct / len(y_pred)) * 100\n",
    "    return acc"
   ]
  },
  {
   "cell_type": "code",
   "execution_count": 21,
   "id": "76cf7759",
   "metadata": {},
   "outputs": [],
   "source": [
    "# setup the loss and optimizer for multi class classification\n",
    "loss_fn = nn.CrossEntropyLoss()\n",
    "\n",
    "optimizer = optim.SGD(params=modelV0.parameters(), lr=0.1)"
   ]
  },
  {
   "cell_type": "markdown",
   "id": "a39f8c2b",
   "metadata": {},
   "source": [
    "### Create an time function to measure the performance"
   ]
  },
  {
   "cell_type": "code",
   "execution_count": 22,
   "id": "c57e1ea9",
   "metadata": {},
   "outputs": [],
   "source": [
    "# import the time module\n",
    "from timeit import default_timer as timer\n",
    "\n",
    "# create an function to calculate the time to train the model\n",
    "def time_train(start: float, end: float, device: torch.device = None):\n",
    "    total_time = end - start\n",
    "    print(f\"Train time on {device}: {total_time:.3f} seconds\")\n",
    "    return total_time"
   ]
  },
  {
   "cell_type": "markdown",
   "id": "650789d9",
   "metadata": {},
   "source": [
    "### Create an training loop"
   ]
  },
  {
   "cell_type": "code",
   "execution_count": 23,
   "id": "47f6589f",
   "metadata": {},
   "outputs": [
    {
     "name": "stderr",
     "output_type": "stream",
     "text": [
      "G:\\Data_Science\\PyTorch\\torch\\Lib\\site-packages\\tqdm\\auto.py:21: TqdmWarning: IProgress not found. Please update jupyter and ipywidgets. See https://ipywidgets.readthedocs.io/en/stable/user_install.html\n",
      "  from .autonotebook import tqdm as notebook_tqdm\n",
      "  0%|                                                                                            | 0/3 [00:00<?, ?it/s]"
     ]
    },
    {
     "name": "stdout",
     "output_type": "stream",
     "text": [
      "Epoch: 0\n",
      "--------------\n",
      "Looked at 0 / 60000 samples\n",
      "Looked at 12800 / 60000 samples\n",
      "Looked at 25600 / 60000 samples\n",
      "Looked at 38400 / 60000 samples\n",
      "Looked at 51200 / 60000 samples\n"
     ]
    },
    {
     "name": "stderr",
     "output_type": "stream",
     "text": [
      "\r",
      " 33%|████████████████████████████                                                        | 1/3 [00:06<00:13,  6.96s/it]"
     ]
    },
    {
     "name": "stdout",
     "output_type": "stream",
     "text": [
      "\n",
      "Train loss: 0.59039 | Test loss: 0.50954, Test acc: 82.04%\n",
      "\n",
      "Epoch: 1\n",
      "--------------\n",
      "Looked at 0 / 60000 samples\n",
      "Looked at 12800 / 60000 samples\n",
      "Looked at 25600 / 60000 samples\n",
      "Looked at 38400 / 60000 samples\n",
      "Looked at 51200 / 60000 samples\n"
     ]
    },
    {
     "name": "stderr",
     "output_type": "stream",
     "text": [
      "\r",
      " 67%|████████████████████████████████████████████████████████                            | 2/3 [00:12<00:06,  6.40s/it]"
     ]
    },
    {
     "name": "stdout",
     "output_type": "stream",
     "text": [
      "\n",
      "Train loss: 0.47633 | Test loss: 0.47989, Test acc: 83.20%\n",
      "\n",
      "Epoch: 2\n",
      "--------------\n",
      "Looked at 0 / 60000 samples\n",
      "Looked at 12800 / 60000 samples\n",
      "Looked at 25600 / 60000 samples\n",
      "Looked at 38400 / 60000 samples\n",
      "Looked at 51200 / 60000 samples\n"
     ]
    },
    {
     "name": "stderr",
     "output_type": "stream",
     "text": [
      "100%|████████████████████████████████████████████████████████████████████████████████████| 3/3 [00:19<00:00,  6.63s/it]"
     ]
    },
    {
     "name": "stdout",
     "output_type": "stream",
     "text": [
      "\n",
      "Train loss: 0.45503 | Test loss: 0.47664, Test acc: 83.43%\n",
      "\n",
      "Train time on cpu: 19.886 seconds\n"
     ]
    },
    {
     "name": "stderr",
     "output_type": "stream",
     "text": [
      "\n"
     ]
    }
   ],
   "source": [
    "# progress bar\n",
    "from tqdm.auto import tqdm\n",
    "\n",
    "# set the reproducible seed\n",
    "torch.manual_seed(42)\n",
    "\n",
    "# start the timer\n",
    "start_cpu = timer()\n",
    "\n",
    "# set the epochs\n",
    "epochs = 3\n",
    "\n",
    "# create an training and testing loop\n",
    "for epoch in tqdm(range(epochs)):\n",
    "    print(f\"Epoch: {epoch}\\n--------------\")\n",
    "    \n",
    "    # set the model into training mode\n",
    "    train_loss = 0\n",
    "    \n",
    "    for batch, (x, y) in enumerate(train_DataLoader):\n",
    "        \n",
    "        modelV0.train()\n",
    "        \n",
    "        # forward propagation\n",
    "        y_pred = modelV0(x)\n",
    "        \n",
    "        # calculate the loss (per epoch)\n",
    "        loss = loss_fn(y_pred, y)\n",
    "        train_loss += loss\n",
    "        \n",
    "        # Backpropagation taken place\n",
    "        # set the optimizer zero grad\n",
    "        optimizer.zero_grad()\n",
    "        \n",
    "        # loss backward\n",
    "        loss.backward()\n",
    "        \n",
    "        # optimizer step\n",
    "        optimizer.step()\n",
    "        \n",
    "        # print out the how many images the model sees\n",
    "        if batch % 400 == 0:\n",
    "            print(f\"Looked at {batch * len(x)} / {len(train_DataLoader.dataset)} samples\")\n",
    "    \n",
    "    # calculate the average loss on all epochs\n",
    "    train_loss /= len(train_DataLoader)\n",
    "    \n",
    "    # set the model into inference mode\n",
    "    test_loss, test_acc = 0, 0\n",
    "    modelV0.eval()\n",
    "    \n",
    "    with torch.inference_mode():\n",
    "        for x, y in test_DataLoader:\n",
    "            # forward propagation\n",
    "            test_pred = modelV0(x)\n",
    "            \n",
    "            # calculate the loss\n",
    "            test_loss += loss_fn(test_pred, y)\n",
    "            \n",
    "            # calculate the accuracy\n",
    "            test_acc += accuracyFn(y_true=y, y_pred=test_pred.argmax(dim=1))\n",
    "            \n",
    "        # calculate the average test loss and accuracy\n",
    "        test_loss /= len(test_DataLoader)\n",
    "        test_acc /= len(test_DataLoader)\n",
    "        \n",
    "    # print the details on the testing process\n",
    "    print(f\"\\nTrain loss: {train_loss:.5f} | Test loss: {test_loss:.5f}, Test acc: {test_acc:.2f}%\\n\")\n",
    "\n",
    "# calculate the training time\n",
    "end_cpu = timer()\n",
    "total_time = time_train(start = start_cpu, end = end_cpu, device = str(next(modelV0.parameters()).device))"
   ]
  },
  {
   "cell_type": "markdown",
   "id": "3611a21b",
   "metadata": {},
   "source": [
    "### Evaluate the model"
   ]
  },
  {
   "cell_type": "code",
   "execution_count": 29,
   "id": "34c490a7",
   "metadata": {},
   "outputs": [],
   "source": [
    "torch.manual_seed(42)\n",
    "\n",
    "def evaluate_model(model : torch.nn.Module, data_loader: torch.utils.data.DataLoader, loss_fn: torch.nn.Module, accuracy_fn):\n",
    "    loss, acc = 0, 0\n",
    "    \n",
    "    # set the model into testing (inference) mode\n",
    "    model.eval()\n",
    "    \n",
    "    with torch.inference_mode():\n",
    "        for x, y in data_loader:\n",
    "            # predictions\n",
    "            y_pred = model(x)\n",
    "            \n",
    "            # calculate the loss and acuuracy\n",
    "            loss += loss_fn(y_pred, y)\n",
    "            acc += accuracy_fn(y_true=y, y_pred=y_pred.argmax(dim=1)) # get the predictions label\n",
    "            \n",
    "        # scale down the loss and accuracy\n",
    "        loss /= len(data_loader)\n",
    "        acc /= len(data_loader)\n",
    "    \n",
    "    return {\"model_name\": model.__class__.__name__,\n",
    "            \"model_loss\": loss.item(),\n",
    "            \"model_acc\": acc\n",
    "           }\n",
    "        "
   ]
  },
  {
   "cell_type": "code",
   "execution_count": 31,
   "id": "17024f8e",
   "metadata": {},
   "outputs": [
    {
     "name": "stdout",
     "output_type": "stream",
     "text": [
      "Results of the ModelV0: {'model_name': 'FashionMnistModelV0', 'model_loss': 0.47663894295692444, 'model_acc': 83.42651757188499}\n"
     ]
    }
   ],
   "source": [
    "# evaluate the model\n",
    "modelV0_results = evaluate_model(model=modelV0, data_loader=test_DataLoader, loss_fn=loss_fn, accuracy_fn=accuracyFn)\n",
    "\n",
    "print(f\"Results of the ModelV0: {modelV0_results}\")"
   ]
  },
  {
   "cell_type": "markdown",
   "id": "b283f1f8",
   "metadata": {},
   "source": [
    "### Setup the model runs on GPU"
   ]
  },
  {
   "cell_type": "code",
   "execution_count": 32,
   "id": "5c6ef15a",
   "metadata": {},
   "outputs": [
    {
     "name": "stdout",
     "output_type": "stream",
     "text": [
      "Device : cuda\n"
     ]
    }
   ],
   "source": [
    "# set the device into gpu\n",
    "device = \"cuda\" if torch.cuda.is_available() else \"cpu\"\n",
    "print(f\"Device : {device}\")"
   ]
  },
  {
   "cell_type": "markdown",
   "id": "7efeea01",
   "metadata": {},
   "source": [
    "### Building model with non-linearity"
   ]
  },
  {
   "cell_type": "code",
   "execution_count": 33,
   "id": "e0308e42",
   "metadata": {},
   "outputs": [],
   "source": [
    "# create an model with non-linearity and linear layers\n",
    "class FashionMnistModelV1(nn.Module):\n",
    "    def __init__(self, input_shape: int, hidden_units: int, output_shape: int):\n",
    "        super().__init__()\n",
    "        self.layer_stack = nn.Sequential(\n",
    "            nn.Flatten(), # neural networks like their inputs in an vector form\n",
    "            nn.Linear(in_features=input_shape, out_features=hidden_units), # in_features => it would be the height * width (One long vector)\n",
    "            nn.ReLU(),\n",
    "            nn.Linear(in_features=hidden_units, out_features=output_shape),\n",
    "            nn.ReLU()\n",
    "        )\n",
    "    def forward(self, x):\n",
    "        return self.layer_stack(x)\n",
    "        \n",
    "# 784 pixels for each image (height * width)"
   ]
  },
  {
   "cell_type": "code",
   "execution_count": 34,
   "id": "24195c9e",
   "metadata": {},
   "outputs": [],
   "source": [
    "# intantoiate the model\n",
    "modelV1 = FashionMnistModelV1(input_shape=784, hidden_units=10, output_shape=len(class_names)).to(device)"
   ]
  },
  {
   "cell_type": "code",
   "execution_count": 38,
   "id": "756f7703",
   "metadata": {},
   "outputs": [
    {
     "data": {
      "text/plain": [
       "device(type='cuda', index=0)"
      ]
     },
     "execution_count": 38,
     "metadata": {},
     "output_type": "execute_result"
    }
   ],
   "source": [
    "# check the model device\n",
    "next(modelV1.parameters()).device"
   ]
  },
  {
   "cell_type": "code",
   "execution_count": 39,
   "id": "b25922e6",
   "metadata": {},
   "outputs": [],
   "source": [
    "# setup loss, optimizer and evaluation metrics\n",
    "loss_fn = nn.CrossEntropyLoss()\n",
    "\n",
    "optimizer = optim.SGD(params=modelV1.parameters(), lr=0.1)"
   ]
  },
  {
   "cell_type": "markdown",
   "id": "4ef41250",
   "metadata": {},
   "source": [
    "### Create an training and testing loop"
   ]
  },
  {
   "cell_type": "code",
   "execution_count": 49,
   "id": "880c0222",
   "metadata": {},
   "outputs": [],
   "source": [
    "def train_loop(model: torch.nn.Module, data_loader: torch.utils.data.DataLoader, optimizer: torch.optim.Optimizer, loss_fn: torch.nn, accuracy_fn, device: torch.device = device):\n",
    "    train_loss, train_acc = 0, 0\n",
    "    # set the model to gpu\n",
    "    model.to(device)\n",
    "    \n",
    "    for batch, (x, y) in enumerate(data_loader):\n",
    "        # send the data into gpu\n",
    "        x, y = x.to(device), y.to(device)\n",
    "        \n",
    "        # forward pass\n",
    "        y_pred = model(x)\n",
    "        \n",
    "        # calculate loss\n",
    "        loss = loss_fn(y_pred, y)\n",
    "        \n",
    "        train_loss += loss\n",
    "        train_acc += accuracy_fn(y_true = y, y_pred = y_pred.argmax(dim=1))\n",
    "        \n",
    "        # optimizer\n",
    "        optimizer.zero_grad()\n",
    "        \n",
    "        # loss backward\n",
    "        loss.backward()\n",
    "        \n",
    "        # set the optimizer step\n",
    "        optimizer.step()\n",
    "        \n",
    "    # calculate the loss and accuracy per epoch\n",
    "    train_loss /= len(data_loader)\n",
    "    train_acc /= len(data_loader)\n",
    "    \n",
    "    print(f\"Train loss: {train_loss:.5f} | Train accuracy: {train_acc:.2f}%\")"
   ]
  },
  {
   "cell_type": "code",
   "execution_count": 50,
   "id": "d968366a",
   "metadata": {},
   "outputs": [],
   "source": [
    "# Create an test loop\n",
    "def test_loop(data_loader: torch.utils.data.DataLoader, model: torch.nn.Module, loss_fn: torch.nn.Module, accuracy_fn, device:torch.device = device):\n",
    "    test_loss, test_acc = 0, 0\n",
    "    \n",
    "    # set the model into gpu\n",
    "    model.to(device)\n",
    "    \n",
    "    # set the model into inference model\n",
    "    model.eval()\n",
    "    \n",
    "    with torch.inference_mode():\n",
    "        for x, y in data_loader:\n",
    "            # send the data into gpu\n",
    "            x, y = x.to(device), y.to(device)\n",
    "            \n",
    "            # forward pass\n",
    "            test_pred = model(x)\n",
    "            \n",
    "            # calculate the loss and accracy\n",
    "            test_loss += loss_fn(test_pred, y)\n",
    "            test_acc += accuracy_fn(y_true = y, y_pred = test_pred.argmax(dim=1))\n",
    "            \n",
    "        # adjust the metrics\n",
    "        test_loss /= len(data_loader)\n",
    "        test_acc /= len(data_loader)\n",
    "        \n",
    "        print(f\"Test loss: {test_loss:.5f} | Test accuracy: {test_acc:.2f}\")"
   ]
  },
  {
   "cell_type": "code",
   "execution_count": 51,
   "id": "46433744",
   "metadata": {},
   "outputs": [
    {
     "name": "stderr",
     "output_type": "stream",
     "text": [
      "\r",
      "  0%|                                                                                            | 0/3 [00:00<?, ?it/s]"
     ]
    },
    {
     "name": "stdout",
     "output_type": "stream",
     "text": [
      "Epoch: 0\n",
      "-------------\n",
      "Train loss: 1.11456 | Train accuracy: 58.46%\n"
     ]
    },
    {
     "name": "stderr",
     "output_type": "stream",
     "text": [
      "\r",
      " 33%|████████████████████████████                                                        | 1/3 [00:09<00:18,  9.14s/it]"
     ]
    },
    {
     "name": "stdout",
     "output_type": "stream",
     "text": [
      "Test loss: 0.96320 | Test accuracy: 63.41\n",
      "Epoch: 1\n",
      "-------------\n",
      "Train loss: 0.90905 | Train accuracy: 64.87%\n"
     ]
    },
    {
     "name": "stderr",
     "output_type": "stream",
     "text": [
      "\r",
      " 67%|████████████████████████████████████████████████████████                            | 2/3 [00:16<00:07,  7.96s/it]"
     ]
    },
    {
     "name": "stdout",
     "output_type": "stream",
     "text": [
      "Test loss: 0.74544 | Test accuracy: 72.61\n",
      "Epoch: 2\n",
      "-------------\n",
      "Train loss: 0.59508 | Train accuracy: 78.25%\n"
     ]
    },
    {
     "name": "stderr",
     "output_type": "stream",
     "text": [
      "100%|████████████████████████████████████████████████████████████████████████████████████| 3/3 [00:25<00:00,  8.39s/it]"
     ]
    },
    {
     "name": "stdout",
     "output_type": "stream",
     "text": [
      "Test loss: 0.49708 | Test accuracy: 82.77\n",
      "Train time on cuda: 25.185 seconds\n"
     ]
    },
    {
     "name": "stderr",
     "output_type": "stream",
     "text": [
      "\n"
     ]
    }
   ],
   "source": [
    "torch.manual_seed(42)\n",
    "\n",
    "# measure the time\n",
    "from timeit import default_timer as timer\n",
    "\n",
    "train_start = timer()\n",
    "\n",
    "epochs = 3\n",
    "\n",
    "for epoch in tqdm(range(epochs)):\n",
    "    print(f\"Epoch: {epoch}\\n-------------\")\n",
    "    train_loop(data_loader=train_DataLoader, model=modelV1, loss_fn=loss_fn, optimizer=optimizer, accuracy_fn=accuracyFn)\n",
    "    test_loop(data_loader=test_DataLoader, model=modelV1, loss_fn=loss_fn, accuracy_fn=accuracyFn)\n",
    "    \n",
    "train_end = timer()\n",
    "\n",
    "total_train_time_gpu = time_train(start=train_start, end=train_end, device=device)"
   ]
  },
  {
   "cell_type": "markdown",
   "id": "eb4cec50",
   "metadata": {},
   "source": [
    "* create an evaluation method for the model trains on gpu"
   ]
  },
  {
   "cell_type": "markdown",
   "id": "866fbc84",
   "metadata": {},
   "source": [
    "### Create an evaluation method"
   ]
  },
  {
   "cell_type": "code",
   "execution_count": 53,
   "id": "13676a2e",
   "metadata": {},
   "outputs": [],
   "source": [
    "torch.manual_seed(42)\n",
    "\n",
    "def evaluate_model_gpu(model : torch.nn.Module, data_loader: torch.utils.data.DataLoader, loss_fn: torch.nn.Module, accuracy_fn, device: torch.device = device):\n",
    "    loss, acc = 0, 0\n",
    "    \n",
    "    # set the model into testing (inference) mode\n",
    "    model.eval()\n",
    "    \n",
    "    with torch.inference_mode():\n",
    "        for x, y in data_loader:\n",
    "            # predictions\n",
    "            x, y = x.to(device), y.to(device)\n",
    "            y_pred = model(x)\n",
    "            \n",
    "            # calculate the loss and acuuracy\n",
    "            loss += loss_fn(y_pred, y)\n",
    "            acc += accuracy_fn(y_true=y, y_pred=y_pred.argmax(dim=1)) # get the predictions label\n",
    "            \n",
    "        # scale down the loss and accuracy\n",
    "        loss /= len(data_loader)\n",
    "        acc /= len(data_loader)\n",
    "    \n",
    "    return {\"model_name\": model.__class__.__name__,\n",
    "            \"model_loss\": loss.item(),\n",
    "            \"model_acc\": acc\n",
    "           }\n",
    "        "
   ]
  },
  {
   "cell_type": "code",
   "execution_count": 54,
   "id": "26efecd5",
   "metadata": {},
   "outputs": [],
   "source": [
    "# evaluate the second model\n",
    "modelV1_results = evaluate_model_gpu(model=modelV1, data_loader=test_DataLoader, loss_fn=loss_fn, accuracy_fn=accuracyFn, device=device)"
   ]
  },
  {
   "cell_type": "code",
   "execution_count": 55,
   "id": "bd71b57a",
   "metadata": {},
   "outputs": [
    {
     "name": "stdout",
     "output_type": "stream",
     "text": [
      "Model V1 results: {'model_name': 'FashionMnistModelV1', 'model_loss': 0.4970788359642029, 'model_acc': 82.76757188498402}\n"
     ]
    }
   ],
   "source": [
    "# chech the modelV1 results\n",
    "print(f\"Model V1 results: {modelV1_results}\")"
   ]
  },
  {
   "cell_type": "code",
   "execution_count": 56,
   "id": "389d359d",
   "metadata": {},
   "outputs": [
    {
     "data": {
      "text/plain": [
       "({'model_name': 'FashionMnistModelV0',\n",
       "  'model_loss': 0.47663894295692444,\n",
       "  'model_acc': 83.42651757188499},\n",
       " {'model_name': 'FashionMnistModelV1',\n",
       "  'model_loss': 0.4970788359642029,\n",
       "  'model_acc': 82.76757188498402})"
      ]
     },
     "execution_count": 56,
     "metadata": {},
     "output_type": "execute_result"
    }
   ],
   "source": [
    "modelV0_results, modelV1_results"
   ]
  },
  {
   "cell_type": "markdown",
   "id": "d87bc3d9",
   "metadata": {},
   "source": [
    "* Overfitting on the training data (non linear modelV1)"
   ]
  },
  {
   "cell_type": "markdown",
   "id": "a87c4aa1",
   "metadata": {},
   "source": [
    "### Build an Convolution Neural Network model (CNN)"
   ]
  },
  {
   "cell_type": "code",
   "execution_count": null,
   "id": "ee8907f9",
   "metadata": {},
   "outputs": [],
   "source": []
  }
 ],
 "metadata": {
  "kernelspec": {
   "display_name": "Python 3 (ipykernel)",
   "language": "python",
   "name": "python3"
  },
  "language_info": {
   "codemirror_mode": {
    "name": "ipython",
    "version": 3
   },
   "file_extension": ".py",
   "mimetype": "text/x-python",
   "name": "python",
   "nbconvert_exporter": "python",
   "pygments_lexer": "ipython3",
   "version": "3.11.1"
  }
 },
 "nbformat": 4,
 "nbformat_minor": 5
}
